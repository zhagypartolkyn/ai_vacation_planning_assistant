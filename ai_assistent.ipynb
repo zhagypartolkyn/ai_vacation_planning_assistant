{
  "nbformat": 4,
  "nbformat_minor": 0,
  "metadata": {
    "colab": {
      "provenance": [],
      "gpuType": "T4"
    },
    "kernelspec": {
      "name": "python3",
      "display_name": "Python 3"
    },
    "language_info": {
      "name": "python"
    },
    "accelerator": "GPU"
  },
  "cells": [
    {
      "cell_type": "code",
      "execution_count": 1,
      "metadata": {
        "colab": {
          "base_uri": "https://localhost:8080/"
        },
        "id": "1V7gztcv1dh7",
        "outputId": "0e5c4b55-6329-4a3c-af9e-58af32ebfd6e"
      },
      "outputs": [
        {
          "output_type": "stream",
          "name": "stdout",
          "text": [
            "Mounted at /content/drive\n"
          ]
        }
      ],
      "source": [
        "from google.colab import drive\n",
        "\n",
        "\n",
        "drive.mount(\"/content/drive\") # This will prompt you to authorize access to your Google Drive"
      ]
    },
    {
      "cell_type": "code",
      "source": [
        "import os\n",
        "\n",
        "folder_path = \"/content/drive/My Drive/Colab Notebooks/Sentiments\"\n",
        "print(\"Files in folder:\", os.listdir(folder_path))\n"
      ],
      "metadata": {
        "colab": {
          "base_uri": "https://localhost:8080/"
        },
        "id": "FTQHmI7B2-b_",
        "outputId": "18bfc1a8-33f2-4ee4-90d9-82c58a7371a0"
      },
      "execution_count": 2,
      "outputs": [
        {
          "output_type": "stream",
          "name": "stdout",
          "text": [
            "Files in folder: ['hotels_with_sentiment.csv', 'batch_100000_named_entities.csv', 'OPEN_AI_KEY.env']\n"
          ]
        }
      ]
    },
    {
      "cell_type": "code",
      "source": [
        "import pandas as pd\n",
        "\n",
        "csv_file = \"/content/drive/My Drive/Colab Notebooks/Sentiments/hotels_with_sentiment.csv\"\n",
        "df = pd.read_csv(csv_file, encoding='utf-8')  # or 'ISO-8859-1' if needed\n",
        "\n",
        "df.head()"
      ],
      "metadata": {
        "colab": {
          "base_uri": "https://localhost:8080/",
          "height": 380
        },
        "id": "8vBLifRM5NDM",
        "outputId": "ff2bd5c7-8608-43ff-a744-aab75fa7c8e1"
      },
      "execution_count": 3,
      "outputs": [
        {
          "output_type": "execute_result",
          "data": {
            "text/plain": [
              "  countyCode countyName  cityCode  cityName  HotelCode       HotelName  \\\n",
              "0         AL    Albania    106078  Albanien    1003300  De Paris Hotel   \n",
              "1         AL    Albania    106078  Albanien    1003301     Hotel Green   \n",
              "2         AL    Albania    106078  Albanien    1003302  Theranda Hotel   \n",
              "3         AL    Albania    106078  Albanien    1003303     Seven Hotel   \n",
              "4         AL    Albania    106078  Albanien    1003325        Viktoria   \n",
              "\n",
              "   HotelRating                                            Address  \\\n",
              "0          4.0                  Nr. 7 Brigada Viii Street Tirane    \n",
              "1          4.0  Rruga Kavajes. Kombinat Km 2. Vaqarr VaqarrTir...   \n",
              "2          3.0  Rr. Andon Zako Cajupi Villa 6 & 7 Villa 6 & 7T...   \n",
              "3          3.0       KAVAJA STREET, CLOSE TURKISH AMBASSY TIRANA    \n",
              "4          3.0            Rruga E Elbasanit Km 4 Sauk SaukTirana    \n",
              "\n",
              "                                         Description  \\\n",
              "0  Hotel de Paris is a charming boutique hotel th...   \n",
              "1  Located in a suburb of Tirana, Hotel Green is ...   \n",
              "2  Set in Tirana, 1.2 km from Skanderbeg Square, ...   \n",
              "3  This hotel enjoys an enviable setting in Tiran...   \n",
              "4  Located in a new residential area at the edge ...   \n",
              "\n",
              "                                     HotelFacilities                  Map  \\\n",
              "0  Private parking Parking onsite Television in c...    41.32213|19.81665   \n",
              "1  airport pick up wifi available in all areas Ai...    41.30413|19.74703   \n",
              "2  face masks for guests available all plates  cu...     41.3216|19.81199   \n",
              "3  À la carte dinner Breakfast buffet Breakfast C...  41.328027|19.815052   \n",
              "4  internet services Ironing service Family rooms...    41.29125|19.85349   \n",
              "\n",
              "   Description_Sentiment  HotelFacilities_Sentiment  \n",
              "0                 0.9623                     0.9231  \n",
              "1                 0.8807                     0.5106  \n",
              "2                 0.9393                     0.9022  \n",
              "3                 0.9896                     0.0000  \n",
              "4                 0.9694                     0.8807  "
            ],
            "text/html": [
              "\n",
              "  <div id=\"df-5614c3b6-c6e8-4af7-9bb4-dafbc72698a0\" class=\"colab-df-container\">\n",
              "    <div>\n",
              "<style scoped>\n",
              "    .dataframe tbody tr th:only-of-type {\n",
              "        vertical-align: middle;\n",
              "    }\n",
              "\n",
              "    .dataframe tbody tr th {\n",
              "        vertical-align: top;\n",
              "    }\n",
              "\n",
              "    .dataframe thead th {\n",
              "        text-align: right;\n",
              "    }\n",
              "</style>\n",
              "<table border=\"1\" class=\"dataframe\">\n",
              "  <thead>\n",
              "    <tr style=\"text-align: right;\">\n",
              "      <th></th>\n",
              "      <th>countyCode</th>\n",
              "      <th>countyName</th>\n",
              "      <th>cityCode</th>\n",
              "      <th>cityName</th>\n",
              "      <th>HotelCode</th>\n",
              "      <th>HotelName</th>\n",
              "      <th>HotelRating</th>\n",
              "      <th>Address</th>\n",
              "      <th>Description</th>\n",
              "      <th>HotelFacilities</th>\n",
              "      <th>Map</th>\n",
              "      <th>Description_Sentiment</th>\n",
              "      <th>HotelFacilities_Sentiment</th>\n",
              "    </tr>\n",
              "  </thead>\n",
              "  <tbody>\n",
              "    <tr>\n",
              "      <th>0</th>\n",
              "      <td>AL</td>\n",
              "      <td>Albania</td>\n",
              "      <td>106078</td>\n",
              "      <td>Albanien</td>\n",
              "      <td>1003300</td>\n",
              "      <td>De Paris Hotel</td>\n",
              "      <td>4.0</td>\n",
              "      <td>Nr. 7 Brigada Viii Street Tirane</td>\n",
              "      <td>Hotel de Paris is a charming boutique hotel th...</td>\n",
              "      <td>Private parking Parking onsite Television in c...</td>\n",
              "      <td>41.32213|19.81665</td>\n",
              "      <td>0.9623</td>\n",
              "      <td>0.9231</td>\n",
              "    </tr>\n",
              "    <tr>\n",
              "      <th>1</th>\n",
              "      <td>AL</td>\n",
              "      <td>Albania</td>\n",
              "      <td>106078</td>\n",
              "      <td>Albanien</td>\n",
              "      <td>1003301</td>\n",
              "      <td>Hotel Green</td>\n",
              "      <td>4.0</td>\n",
              "      <td>Rruga Kavajes. Kombinat Km 2. Vaqarr VaqarrTir...</td>\n",
              "      <td>Located in a suburb of Tirana, Hotel Green is ...</td>\n",
              "      <td>airport pick up wifi available in all areas Ai...</td>\n",
              "      <td>41.30413|19.74703</td>\n",
              "      <td>0.8807</td>\n",
              "      <td>0.5106</td>\n",
              "    </tr>\n",
              "    <tr>\n",
              "      <th>2</th>\n",
              "      <td>AL</td>\n",
              "      <td>Albania</td>\n",
              "      <td>106078</td>\n",
              "      <td>Albanien</td>\n",
              "      <td>1003302</td>\n",
              "      <td>Theranda Hotel</td>\n",
              "      <td>3.0</td>\n",
              "      <td>Rr. Andon Zako Cajupi Villa 6 &amp; 7 Villa 6 &amp; 7T...</td>\n",
              "      <td>Set in Tirana, 1.2 km from Skanderbeg Square, ...</td>\n",
              "      <td>face masks for guests available all plates  cu...</td>\n",
              "      <td>41.3216|19.81199</td>\n",
              "      <td>0.9393</td>\n",
              "      <td>0.9022</td>\n",
              "    </tr>\n",
              "    <tr>\n",
              "      <th>3</th>\n",
              "      <td>AL</td>\n",
              "      <td>Albania</td>\n",
              "      <td>106078</td>\n",
              "      <td>Albanien</td>\n",
              "      <td>1003303</td>\n",
              "      <td>Seven Hotel</td>\n",
              "      <td>3.0</td>\n",
              "      <td>KAVAJA STREET, CLOSE TURKISH AMBASSY TIRANA</td>\n",
              "      <td>This hotel enjoys an enviable setting in Tiran...</td>\n",
              "      <td>À la carte dinner Breakfast buffet Breakfast C...</td>\n",
              "      <td>41.328027|19.815052</td>\n",
              "      <td>0.9896</td>\n",
              "      <td>0.0000</td>\n",
              "    </tr>\n",
              "    <tr>\n",
              "      <th>4</th>\n",
              "      <td>AL</td>\n",
              "      <td>Albania</td>\n",
              "      <td>106078</td>\n",
              "      <td>Albanien</td>\n",
              "      <td>1003325</td>\n",
              "      <td>Viktoria</td>\n",
              "      <td>3.0</td>\n",
              "      <td>Rruga E Elbasanit Km 4 Sauk SaukTirana</td>\n",
              "      <td>Located in a new residential area at the edge ...</td>\n",
              "      <td>internet services Ironing service Family rooms...</td>\n",
              "      <td>41.29125|19.85349</td>\n",
              "      <td>0.9694</td>\n",
              "      <td>0.8807</td>\n",
              "    </tr>\n",
              "  </tbody>\n",
              "</table>\n",
              "</div>\n",
              "    <div class=\"colab-df-buttons\">\n",
              "\n",
              "  <div class=\"colab-df-container\">\n",
              "    <button class=\"colab-df-convert\" onclick=\"convertToInteractive('df-5614c3b6-c6e8-4af7-9bb4-dafbc72698a0')\"\n",
              "            title=\"Convert this dataframe to an interactive table.\"\n",
              "            style=\"display:none;\">\n",
              "\n",
              "  <svg xmlns=\"http://www.w3.org/2000/svg\" height=\"24px\" viewBox=\"0 -960 960 960\">\n",
              "    <path d=\"M120-120v-720h720v720H120Zm60-500h600v-160H180v160Zm220 220h160v-160H400v160Zm0 220h160v-160H400v160ZM180-400h160v-160H180v160Zm440 0h160v-160H620v160ZM180-180h160v-160H180v160Zm440 0h160v-160H620v160Z\"/>\n",
              "  </svg>\n",
              "    </button>\n",
              "\n",
              "  <style>\n",
              "    .colab-df-container {\n",
              "      display:flex;\n",
              "      gap: 12px;\n",
              "    }\n",
              "\n",
              "    .colab-df-convert {\n",
              "      background-color: #E8F0FE;\n",
              "      border: none;\n",
              "      border-radius: 50%;\n",
              "      cursor: pointer;\n",
              "      display: none;\n",
              "      fill: #1967D2;\n",
              "      height: 32px;\n",
              "      padding: 0 0 0 0;\n",
              "      width: 32px;\n",
              "    }\n",
              "\n",
              "    .colab-df-convert:hover {\n",
              "      background-color: #E2EBFA;\n",
              "      box-shadow: 0px 1px 2px rgba(60, 64, 67, 0.3), 0px 1px 3px 1px rgba(60, 64, 67, 0.15);\n",
              "      fill: #174EA6;\n",
              "    }\n",
              "\n",
              "    .colab-df-buttons div {\n",
              "      margin-bottom: 4px;\n",
              "    }\n",
              "\n",
              "    [theme=dark] .colab-df-convert {\n",
              "      background-color: #3B4455;\n",
              "      fill: #D2E3FC;\n",
              "    }\n",
              "\n",
              "    [theme=dark] .colab-df-convert:hover {\n",
              "      background-color: #434B5C;\n",
              "      box-shadow: 0px 1px 3px 1px rgba(0, 0, 0, 0.15);\n",
              "      filter: drop-shadow(0px 1px 2px rgba(0, 0, 0, 0.3));\n",
              "      fill: #FFFFFF;\n",
              "    }\n",
              "  </style>\n",
              "\n",
              "    <script>\n",
              "      const buttonEl =\n",
              "        document.querySelector('#df-5614c3b6-c6e8-4af7-9bb4-dafbc72698a0 button.colab-df-convert');\n",
              "      buttonEl.style.display =\n",
              "        google.colab.kernel.accessAllowed ? 'block' : 'none';\n",
              "\n",
              "      async function convertToInteractive(key) {\n",
              "        const element = document.querySelector('#df-5614c3b6-c6e8-4af7-9bb4-dafbc72698a0');\n",
              "        const dataTable =\n",
              "          await google.colab.kernel.invokeFunction('convertToInteractive',\n",
              "                                                    [key], {});\n",
              "        if (!dataTable) return;\n",
              "\n",
              "        const docLinkHtml = 'Like what you see? Visit the ' +\n",
              "          '<a target=\"_blank\" href=https://colab.research.google.com/notebooks/data_table.ipynb>data table notebook</a>'\n",
              "          + ' to learn more about interactive tables.';\n",
              "        element.innerHTML = '';\n",
              "        dataTable['output_type'] = 'display_data';\n",
              "        await google.colab.output.renderOutput(dataTable, element);\n",
              "        const docLink = document.createElement('div');\n",
              "        docLink.innerHTML = docLinkHtml;\n",
              "        element.appendChild(docLink);\n",
              "      }\n",
              "    </script>\n",
              "  </div>\n",
              "\n",
              "\n",
              "<div id=\"df-f2f283a2-88fb-411c-ab48-f044bebabd89\">\n",
              "  <button class=\"colab-df-quickchart\" onclick=\"quickchart('df-f2f283a2-88fb-411c-ab48-f044bebabd89')\"\n",
              "            title=\"Suggest charts\"\n",
              "            style=\"display:none;\">\n",
              "\n",
              "<svg xmlns=\"http://www.w3.org/2000/svg\" height=\"24px\"viewBox=\"0 0 24 24\"\n",
              "     width=\"24px\">\n",
              "    <g>\n",
              "        <path d=\"M19 3H5c-1.1 0-2 .9-2 2v14c0 1.1.9 2 2 2h14c1.1 0 2-.9 2-2V5c0-1.1-.9-2-2-2zM9 17H7v-7h2v7zm4 0h-2V7h2v10zm4 0h-2v-4h2v4z\"/>\n",
              "    </g>\n",
              "</svg>\n",
              "  </button>\n",
              "\n",
              "<style>\n",
              "  .colab-df-quickchart {\n",
              "      --bg-color: #E8F0FE;\n",
              "      --fill-color: #1967D2;\n",
              "      --hover-bg-color: #E2EBFA;\n",
              "      --hover-fill-color: #174EA6;\n",
              "      --disabled-fill-color: #AAA;\n",
              "      --disabled-bg-color: #DDD;\n",
              "  }\n",
              "\n",
              "  [theme=dark] .colab-df-quickchart {\n",
              "      --bg-color: #3B4455;\n",
              "      --fill-color: #D2E3FC;\n",
              "      --hover-bg-color: #434B5C;\n",
              "      --hover-fill-color: #FFFFFF;\n",
              "      --disabled-bg-color: #3B4455;\n",
              "      --disabled-fill-color: #666;\n",
              "  }\n",
              "\n",
              "  .colab-df-quickchart {\n",
              "    background-color: var(--bg-color);\n",
              "    border: none;\n",
              "    border-radius: 50%;\n",
              "    cursor: pointer;\n",
              "    display: none;\n",
              "    fill: var(--fill-color);\n",
              "    height: 32px;\n",
              "    padding: 0;\n",
              "    width: 32px;\n",
              "  }\n",
              "\n",
              "  .colab-df-quickchart:hover {\n",
              "    background-color: var(--hover-bg-color);\n",
              "    box-shadow: 0 1px 2px rgba(60, 64, 67, 0.3), 0 1px 3px 1px rgba(60, 64, 67, 0.15);\n",
              "    fill: var(--button-hover-fill-color);\n",
              "  }\n",
              "\n",
              "  .colab-df-quickchart-complete:disabled,\n",
              "  .colab-df-quickchart-complete:disabled:hover {\n",
              "    background-color: var(--disabled-bg-color);\n",
              "    fill: var(--disabled-fill-color);\n",
              "    box-shadow: none;\n",
              "  }\n",
              "\n",
              "  .colab-df-spinner {\n",
              "    border: 2px solid var(--fill-color);\n",
              "    border-color: transparent;\n",
              "    border-bottom-color: var(--fill-color);\n",
              "    animation:\n",
              "      spin 1s steps(1) infinite;\n",
              "  }\n",
              "\n",
              "  @keyframes spin {\n",
              "    0% {\n",
              "      border-color: transparent;\n",
              "      border-bottom-color: var(--fill-color);\n",
              "      border-left-color: var(--fill-color);\n",
              "    }\n",
              "    20% {\n",
              "      border-color: transparent;\n",
              "      border-left-color: var(--fill-color);\n",
              "      border-top-color: var(--fill-color);\n",
              "    }\n",
              "    30% {\n",
              "      border-color: transparent;\n",
              "      border-left-color: var(--fill-color);\n",
              "      border-top-color: var(--fill-color);\n",
              "      border-right-color: var(--fill-color);\n",
              "    }\n",
              "    40% {\n",
              "      border-color: transparent;\n",
              "      border-right-color: var(--fill-color);\n",
              "      border-top-color: var(--fill-color);\n",
              "    }\n",
              "    60% {\n",
              "      border-color: transparent;\n",
              "      border-right-color: var(--fill-color);\n",
              "    }\n",
              "    80% {\n",
              "      border-color: transparent;\n",
              "      border-right-color: var(--fill-color);\n",
              "      border-bottom-color: var(--fill-color);\n",
              "    }\n",
              "    90% {\n",
              "      border-color: transparent;\n",
              "      border-bottom-color: var(--fill-color);\n",
              "    }\n",
              "  }\n",
              "</style>\n",
              "\n",
              "  <script>\n",
              "    async function quickchart(key) {\n",
              "      const quickchartButtonEl =\n",
              "        document.querySelector('#' + key + ' button');\n",
              "      quickchartButtonEl.disabled = true;  // To prevent multiple clicks.\n",
              "      quickchartButtonEl.classList.add('colab-df-spinner');\n",
              "      try {\n",
              "        const charts = await google.colab.kernel.invokeFunction(\n",
              "            'suggestCharts', [key], {});\n",
              "      } catch (error) {\n",
              "        console.error('Error during call to suggestCharts:', error);\n",
              "      }\n",
              "      quickchartButtonEl.classList.remove('colab-df-spinner');\n",
              "      quickchartButtonEl.classList.add('colab-df-quickchart-complete');\n",
              "    }\n",
              "    (() => {\n",
              "      let quickchartButtonEl =\n",
              "        document.querySelector('#df-f2f283a2-88fb-411c-ab48-f044bebabd89 button');\n",
              "      quickchartButtonEl.style.display =\n",
              "        google.colab.kernel.accessAllowed ? 'block' : 'none';\n",
              "    })();\n",
              "  </script>\n",
              "</div>\n",
              "\n",
              "    </div>\n",
              "  </div>\n"
            ],
            "application/vnd.google.colaboratory.intrinsic+json": {
              "type": "dataframe",
              "variable_name": "df"
            }
          },
          "metadata": {},
          "execution_count": 3
        }
      ]
    },
    {
      "cell_type": "code",
      "source": [
        "pip install spacy"
      ],
      "metadata": {
        "colab": {
          "base_uri": "https://localhost:8080/"
        },
        "collapsed": true,
        "id": "YLfpjDnx5nHR",
        "outputId": "f855ba53-d9ad-4b44-a9d6-adba96cb02db"
      },
      "execution_count": 5,
      "outputs": [
        {
          "output_type": "stream",
          "name": "stdout",
          "text": [
            "Requirement already satisfied: spacy in /usr/local/lib/python3.11/dist-packages (3.8.5)\n",
            "Requirement already satisfied: spacy-legacy<3.1.0,>=3.0.11 in /usr/local/lib/python3.11/dist-packages (from spacy) (3.0.12)\n",
            "Requirement already satisfied: spacy-loggers<2.0.0,>=1.0.0 in /usr/local/lib/python3.11/dist-packages (from spacy) (1.0.5)\n",
            "Requirement already satisfied: murmurhash<1.1.0,>=0.28.0 in /usr/local/lib/python3.11/dist-packages (from spacy) (1.0.12)\n",
            "Requirement already satisfied: cymem<2.1.0,>=2.0.2 in /usr/local/lib/python3.11/dist-packages (from spacy) (2.0.11)\n",
            "Requirement already satisfied: preshed<3.1.0,>=3.0.2 in /usr/local/lib/python3.11/dist-packages (from spacy) (3.0.9)\n",
            "Requirement already satisfied: thinc<8.4.0,>=8.3.4 in /usr/local/lib/python3.11/dist-packages (from spacy) (8.3.4)\n",
            "Requirement already satisfied: wasabi<1.2.0,>=0.9.1 in /usr/local/lib/python3.11/dist-packages (from spacy) (1.1.3)\n",
            "Requirement already satisfied: srsly<3.0.0,>=2.4.3 in /usr/local/lib/python3.11/dist-packages (from spacy) (2.5.1)\n",
            "Requirement already satisfied: catalogue<2.1.0,>=2.0.6 in /usr/local/lib/python3.11/dist-packages (from spacy) (2.0.10)\n",
            "Requirement already satisfied: weasel<0.5.0,>=0.1.0 in /usr/local/lib/python3.11/dist-packages (from spacy) (0.4.1)\n",
            "Requirement already satisfied: typer<1.0.0,>=0.3.0 in /usr/local/lib/python3.11/dist-packages (from spacy) (0.15.2)\n",
            "Requirement already satisfied: tqdm<5.0.0,>=4.38.0 in /usr/local/lib/python3.11/dist-packages (from spacy) (4.67.1)\n",
            "Requirement already satisfied: numpy>=1.19.0 in /usr/local/lib/python3.11/dist-packages (from spacy) (2.0.2)\n",
            "Requirement already satisfied: requests<3.0.0,>=2.13.0 in /usr/local/lib/python3.11/dist-packages (from spacy) (2.32.3)\n",
            "Requirement already satisfied: pydantic!=1.8,!=1.8.1,<3.0.0,>=1.7.4 in /usr/local/lib/python3.11/dist-packages (from spacy) (2.11.1)\n",
            "Requirement already satisfied: jinja2 in /usr/local/lib/python3.11/dist-packages (from spacy) (3.1.6)\n",
            "Requirement already satisfied: setuptools in /usr/local/lib/python3.11/dist-packages (from spacy) (75.2.0)\n",
            "Requirement already satisfied: packaging>=20.0 in /usr/local/lib/python3.11/dist-packages (from spacy) (24.2)\n",
            "Requirement already satisfied: langcodes<4.0.0,>=3.2.0 in /usr/local/lib/python3.11/dist-packages (from spacy) (3.5.0)\n",
            "Requirement already satisfied: language-data>=1.2 in /usr/local/lib/python3.11/dist-packages (from langcodes<4.0.0,>=3.2.0->spacy) (1.3.0)\n",
            "Requirement already satisfied: annotated-types>=0.6.0 in /usr/local/lib/python3.11/dist-packages (from pydantic!=1.8,!=1.8.1,<3.0.0,>=1.7.4->spacy) (0.7.0)\n",
            "Requirement already satisfied: pydantic-core==2.33.0 in /usr/local/lib/python3.11/dist-packages (from pydantic!=1.8,!=1.8.1,<3.0.0,>=1.7.4->spacy) (2.33.0)\n",
            "Requirement already satisfied: typing-extensions>=4.12.2 in /usr/local/lib/python3.11/dist-packages (from pydantic!=1.8,!=1.8.1,<3.0.0,>=1.7.4->spacy) (4.13.0)\n",
            "Requirement already satisfied: typing-inspection>=0.4.0 in /usr/local/lib/python3.11/dist-packages (from pydantic!=1.8,!=1.8.1,<3.0.0,>=1.7.4->spacy) (0.4.0)\n",
            "Requirement already satisfied: charset-normalizer<4,>=2 in /usr/local/lib/python3.11/dist-packages (from requests<3.0.0,>=2.13.0->spacy) (3.4.1)\n",
            "Requirement already satisfied: idna<4,>=2.5 in /usr/local/lib/python3.11/dist-packages (from requests<3.0.0,>=2.13.0->spacy) (3.10)\n",
            "Requirement already satisfied: urllib3<3,>=1.21.1 in /usr/local/lib/python3.11/dist-packages (from requests<3.0.0,>=2.13.0->spacy) (2.3.0)\n",
            "Requirement already satisfied: certifi>=2017.4.17 in /usr/local/lib/python3.11/dist-packages (from requests<3.0.0,>=2.13.0->spacy) (2025.1.31)\n",
            "Requirement already satisfied: blis<1.3.0,>=1.2.0 in /usr/local/lib/python3.11/dist-packages (from thinc<8.4.0,>=8.3.4->spacy) (1.2.1)\n",
            "Requirement already satisfied: confection<1.0.0,>=0.0.1 in /usr/local/lib/python3.11/dist-packages (from thinc<8.4.0,>=8.3.4->spacy) (0.1.5)\n",
            "Requirement already satisfied: click>=8.0.0 in /usr/local/lib/python3.11/dist-packages (from typer<1.0.0,>=0.3.0->spacy) (8.1.8)\n",
            "Requirement already satisfied: shellingham>=1.3.0 in /usr/local/lib/python3.11/dist-packages (from typer<1.0.0,>=0.3.0->spacy) (1.5.4)\n",
            "Requirement already satisfied: rich>=10.11.0 in /usr/local/lib/python3.11/dist-packages (from typer<1.0.0,>=0.3.0->spacy) (13.9.4)\n",
            "Requirement already satisfied: cloudpathlib<1.0.0,>=0.7.0 in /usr/local/lib/python3.11/dist-packages (from weasel<0.5.0,>=0.1.0->spacy) (0.21.0)\n",
            "Requirement already satisfied: smart-open<8.0.0,>=5.2.1 in /usr/local/lib/python3.11/dist-packages (from weasel<0.5.0,>=0.1.0->spacy) (7.1.0)\n",
            "Requirement already satisfied: MarkupSafe>=2.0 in /usr/local/lib/python3.11/dist-packages (from jinja2->spacy) (3.0.2)\n",
            "Requirement already satisfied: marisa-trie>=1.1.0 in /usr/local/lib/python3.11/dist-packages (from language-data>=1.2->langcodes<4.0.0,>=3.2.0->spacy) (1.2.1)\n",
            "Requirement already satisfied: markdown-it-py>=2.2.0 in /usr/local/lib/python3.11/dist-packages (from rich>=10.11.0->typer<1.0.0,>=0.3.0->spacy) (3.0.0)\n",
            "Requirement already satisfied: pygments<3.0.0,>=2.13.0 in /usr/local/lib/python3.11/dist-packages (from rich>=10.11.0->typer<1.0.0,>=0.3.0->spacy) (2.18.0)\n",
            "Requirement already satisfied: wrapt in /usr/local/lib/python3.11/dist-packages (from smart-open<8.0.0,>=5.2.1->weasel<0.5.0,>=0.1.0->spacy) (1.17.2)\n",
            "Requirement already satisfied: mdurl~=0.1 in /usr/local/lib/python3.11/dist-packages (from markdown-it-py>=2.2.0->rich>=10.11.0->typer<1.0.0,>=0.3.0->spacy) (0.1.2)\n"
          ]
        }
      ]
    },
    {
      "cell_type": "code",
      "source": [
        "import spacy\n",
        "\n",
        "# Load the small English model, which includes a pre-trained NER component\n",
        "nlp = spacy.load(\"en_core_web_sm\")"
      ],
      "metadata": {
        "id": "udk_ACcO52Js"
      },
      "execution_count": 4,
      "outputs": []
    },
    {
      "cell_type": "code",
      "source": [
        "df['HotelFacilities'].isnull().sum()"
      ],
      "metadata": {
        "colab": {
          "base_uri": "https://localhost:8080/"
        },
        "id": "1DILSbAH7Or2",
        "outputId": "237f4ec1-8b67-4ed3-ce9c-eadeba006433"
      },
      "execution_count": null,
      "outputs": [
        {
          "output_type": "execute_result",
          "data": {
            "text/plain": [
              "np.int64(0)"
            ]
          },
          "metadata": {},
          "execution_count": 10
        }
      ]
    },
    {
      "cell_type": "code",
      "source": [
        "import pandas as pd\n",
        "import spacy\n",
        "from tqdm import tqdm\n",
        "\n",
        "# Select a batch of the first 100,000 records\n",
        "batch_df = df.head(100000).copy()\n",
        "\n",
        "\n",
        "nlp = spacy.load(\"en_core_web_sm\")\n",
        "\n",
        "# Get the texts from the HotelFacilities column\n",
        "texts = batch_df['HotelFacilities'].tolist()\n",
        "\n",
        "# Process the texts in batch using nlp.pipe with progress monitoring.\n",
        "# Adjust batch_size and n_process as needed; here we use batch_size=100 and n_process=2.\n",
        "docs = list(tqdm(nlp.pipe(texts, batch_size=1000, n_process=2), total=len(texts)))\n",
        "\n",
        "# Extract Named Entities for each document and add as a new column.\n",
        "# Each cell will contain a list of tuples (entity text, entity label).\n",
        "batch_df['Named_Entities'] = [[(ent.text, ent.label_) for ent in doc.ents] for doc in docs]\n",
        "\n",
        "# Optionally, convert the Named_Entities column to string for CSV export.\n",
        "batch_df['Named_Entities'] = batch_df['Named_Entities'].apply(lambda x: str(x))\n",
        "\n",
        "# Save the batch to a CSV file\n",
        "output_csv = os.path.join(folder_path, \"batch_100000_named_entities.csv\")\n",
        "batch_df.to_csv(output_csv, index=False)\n",
        "print(f\"File saved to {output_csv}\")\n"
      ],
      "metadata": {
        "colab": {
          "base_uri": "https://localhost:8080/"
        },
        "id": "7WnpWJu-M6XX",
        "outputId": "6258a46c-b50c-45f2-8935-d56391040408"
      },
      "execution_count": 5,
      "outputs": [
        {
          "output_type": "stream",
          "name": "stderr",
          "text": [
            "100%|██████████| 100000/100000 [23:20<00:00, 71.40it/s]\n"
          ]
        },
        {
          "output_type": "stream",
          "name": "stdout",
          "text": [
            "File saved to /content/drive/My Drive/Colab Notebooks/Sentiments/batch_100000_named_entities.csv\n"
          ]
        }
      ]
    },
    {
      "cell_type": "code",
      "source": [
        "print(batch_df['Named_Entities'].dtype)"
      ],
      "metadata": {
        "colab": {
          "base_uri": "https://localhost:8080/"
        },
        "id": "oIbZY93xXq8f",
        "outputId": "7d3a320a-33c9-4eaf-d99f-86aaae27c685"
      },
      "execution_count": 7,
      "outputs": [
        {
          "output_type": "stream",
          "name": "stdout",
          "text": [
            "object\n"
          ]
        }
      ]
    },
    {
      "cell_type": "code",
      "source": [
        "print(type(batch_df['Named_Entities'].iloc[0]))"
      ],
      "metadata": {
        "colab": {
          "base_uri": "https://localhost:8080/"
        },
        "id": "Qm5pKvYxX7Qa",
        "outputId": "4ed9494b-b9a8-4ab8-9f42-5b01801d9b71"
      },
      "execution_count": 8,
      "outputs": [
        {
          "output_type": "stream",
          "name": "stdout",
          "text": [
            "<class 'str'>\n"
          ]
        }
      ]
    },
    {
      "cell_type": "code",
      "source": [
        "#VISUALISATION"
      ],
      "metadata": {
        "id": "iPCU4KpQW5n0"
      },
      "execution_count": null,
      "outputs": []
    },
    {
      "cell_type": "code",
      "source": [
        "import matplotlib.pyplot as plt\n",
        "from collections import Counter\n",
        "import ast\n",
        "\n",
        "\n",
        "def parse_named_entities(x):\n",
        "    if isinstance(x, str):\n",
        "        try:\n",
        "            return ast.literal_eval(x)\n",
        "        except Exception as e:\n",
        "            return []\n",
        "    return x\n",
        "\n",
        "batch_df['Named_Entities'] = batch_df['Named_Entities'].apply(parse_named_entities)\n",
        "\n",
        "# Flatten the list of entity tuples from all rows in the Named_Entities column\n",
        "all_entities = [ent for sublist in batch_df['Named_Entities'] for ent in sublist]\n",
        "\n",
        "# Create a counter for entity texts (e.g., \"Pool\", \"WiFi\", etc.)\n",
        "entity_counter = Counter([ent for ent, label in all_entities])\n",
        "top_entities = entity_counter.most_common(10)\n",
        "print(\"Most common entities (by text):\")\n",
        "print(top_entities)\n",
        "\n",
        "# Plot the top 10 entities (by text)\n",
        "entities, counts = zip(*top_entities)\n",
        "plt.figure(figsize=(10, 6))\n",
        "plt.bar(entities, counts, color='skyblue')\n",
        "plt.title(\"Top 10 Most Common Entities (by text)\")\n",
        "plt.xlabel(\"Entity\")\n",
        "plt.ylabel(\"Count\")\n",
        "plt.xticks(rotation=45)\n",
        "plt.tight_layout()\n",
        "plt.show()\n",
        "\n",
        "# Create a counter for entity labels (e.g., GPE, ORG, etc.)\n",
        "label_counter = Counter([label for ent, label in all_entities])\n",
        "top_labels = label_counter.most_common(10)\n",
        "print(\"\\nMost common entity labels:\")\n",
        "print(top_labels)\n",
        "\n",
        "# Plot the top 10 entity labels\n",
        "labels, label_counts = zip(*top_labels)\n",
        "plt.figure(figsize=(10, 6))\n",
        "plt.bar(labels, label_counts, color='salmon')\n",
        "plt.title(\"Top 10 Most Common Entity Labels\")\n",
        "plt.xlabel(\"Entity Label\")\n",
        "plt.ylabel(\"Count\")\n",
        "plt.xticks(rotation=45)\n",
        "plt.tight_layout()\n",
        "plt.show()\n"
      ],
      "metadata": {
        "colab": {
          "base_uri": "https://localhost:8080/",
          "height": 1000
        },
        "id": "uTk7N40fXRoU",
        "outputId": "276b24ec-30cf-47f2-f479-dc2322ff790b"
      },
      "execution_count": 9,
      "outputs": [
        {
          "output_type": "stream",
          "name": "stdout",
          "text": [
            "Most common entities (by text):\n",
            "[('Wheelchair', 33976), ('24-hour', 26844), ('Smoke', 24626), ('first', 17323), ('CCTV', 16895), ('Sun', 15009), ('Air', 13491), ('Family', 13283), ('Swimming', 12612), ('Daily', 10060)]\n"
          ]
        },
        {
          "output_type": "display_data",
          "data": {
            "text/plain": [
              "<Figure size 1000x600 with 1 Axes>"
            ],
            "image/png": "[encoded data removed]"
          },
          "metadata": {}
        },
        {
          "output_type": "stream",
          "name": "stdout",
          "text": [
            "\n",
            "Most common entity labels:\n",
            "[('ORG', 286916), ('PERSON', 93858), ('NORP', 50727), ('WORK_OF_ART', 31242), ('GPE', 30168), ('TIME', 29143), ('PRODUCT', 22248), ('ORDINAL', 17342), ('CARDINAL', 17264), ('DATE', 15184)]\n"
          ]
        },
        {
          "output_type": "display_data",
          "data": {
            "text/plain": [
              "<Figure size 1000x600 with 1 Axes>"
            ],
            "image/png": "[encoded data removed]"
          },
          "metadata": {}
        }
      ]
    },
    {
      "cell_type": "markdown",
      "source": [
        "SpaCy's pre-trained NER model (e.g., en_core_web_sm) uses a variety of labels to categorize entities. Here’s a list of common labels and what they mean:\n",
        "\n",
        "PERSON: People, including fictional characters.\n",
        "\n",
        "NORP: Nationalities, religious groups, or political groups.\n",
        "\n",
        "FAC: Facilities such as buildings, airports, highways, bridges.\n",
        "\n",
        "ORG: Organizations, including companies, agencies, institutions.\n",
        "\n",
        "GPE: Geopolitical entities, including countries, cities, and states.\n",
        "\n",
        "LOC: Other locations, like mountain ranges or bodies of water.\n",
        "\n",
        "PRODUCT: Products, including objects, vehicles, foods, etc.\n",
        "\n",
        "EVENT: Named events such as sports events, wars, or festivals.\n",
        "\n",
        "WORK_OF_ART: Titles of creative works like books, songs, or paintings.\n",
        "\n",
        "LAW: Named legal documents or laws.\n",
        "\n",
        "LANGUAGE: Named languages.\n",
        "\n",
        "DATE: Absolute or relative dates or periods.\n",
        "\n",
        "TIME: Times smaller than a day.\n",
        "\n",
        "PERCENT: Percentage expressions (e.g., \"50%\").\n",
        "\n",
        "MONEY: Monetary values.\n",
        "\n",
        "QUANTITY: Measurements or quantities (e.g., \"10 kg\", \"5 miles\").\n",
        "\n",
        "ORDINAL: Ordinal numbers (e.g., \"first\", \"second\").\n",
        "\n",
        "CARDINAL: Numerical values that don't fall under another category."
      ],
      "metadata": {
        "id": "hChrgVIKYP29"
      }
    },
    {
      "cell_type": "code",
      "source": [
        "batch_df.head()"
      ],
      "metadata": {
        "colab": {
          "base_uri": "https://localhost:8080/",
          "height": 518
        },
        "id": "opYkANTZYe8k",
        "outputId": "dce85f84-a191-4512-80fd-91560cfbdac1"
      },
      "execution_count": 10,
      "outputs": [
        {
          "output_type": "execute_result",
          "data": {
            "text/plain": [
              "  countyCode countyName  cityCode  cityName  HotelCode       HotelName  \\\n",
              "0         AL    Albania    106078  Albanien    1003300  De Paris Hotel   \n",
              "1         AL    Albania    106078  Albanien    1003301     Hotel Green   \n",
              "2         AL    Albania    106078  Albanien    1003302  Theranda Hotel   \n",
              "3         AL    Albania    106078  Albanien    1003303     Seven Hotel   \n",
              "4         AL    Albania    106078  Albanien    1003325        Viktoria   \n",
              "\n",
              "   HotelRating                                            Address  \\\n",
              "0          4.0                  Nr. 7 Brigada Viii Street Tirane    \n",
              "1          4.0  Rruga Kavajes. Kombinat Km 2. Vaqarr VaqarrTir...   \n",
              "2          3.0  Rr. Andon Zako Cajupi Villa 6 & 7 Villa 6 & 7T...   \n",
              "3          3.0       KAVAJA STREET, CLOSE TURKISH AMBASSY TIRANA    \n",
              "4          3.0            Rruga E Elbasanit Km 4 Sauk SaukTirana    \n",
              "\n",
              "                                         Description  \\\n",
              "0  Hotel de Paris is a charming boutique hotel th...   \n",
              "1  Located in a suburb of Tirana, Hotel Green is ...   \n",
              "2  Set in Tirana, 1.2 km from Skanderbeg Square, ...   \n",
              "3  This hotel enjoys an enviable setting in Tiran...   \n",
              "4  Located in a new residential area at the edge ...   \n",
              "\n",
              "                                     HotelFacilities                  Map  \\\n",
              "0  Private parking Parking onsite Television in c...    41.32213|19.81665   \n",
              "1  airport pick up wifi available in all areas Ai...    41.30413|19.74703   \n",
              "2  face masks for guests available all plates  cu...     41.3216|19.81199   \n",
              "3  À la carte dinner Breakfast buffet Breakfast C...  41.328027|19.815052   \n",
              "4  internet services Ironing service Family rooms...    41.29125|19.85349   \n",
              "\n",
              "   Description_Sentiment  HotelFacilities_Sentiment  \\\n",
              "0                 0.9623                     0.9231   \n",
              "1                 0.8807                     0.5106   \n",
              "2                 0.9393                     0.9022   \n",
              "3                 0.9896                     0.0000   \n",
              "4                 0.9694                     0.8807   \n",
              "\n",
              "                                      Named_Entities  \n",
              "0  [(Parking onsite Television, ORG), (Airport, P...  \n",
              "1  [(Air, ORG), (Luggage, PERSON), (Packed, PERSO...  \n",
              "2  [(Shuttle, GPE), (Fruits Wine, WORK_OF_ART), (...  \n",
              "3  [(Breakfast, LOC), (Breakfast Conference room ...  \n",
              "4  [(Family, PRODUCT), (Laundry Airport, FAC), (G...  "
            ],
            "text/html": [
              "\n",
              "  <div id=\"df-425ca358-8b06-46d4-9dd7-317164449659\" class=\"colab-df-container\">\n",
              "    <div>\n",
              "<style scoped>\n",
              "    .dataframe tbody tr th:only-of-type {\n",
              "        vertical-align: middle;\n",
              "    }\n",
              "\n",
              "    .dataframe tbody tr th {\n",
              "        vertical-align: top;\n",
              "    }\n",
              "\n",
              "    .dataframe thead th {\n",
              "        text-align: right;\n",
              "    }\n",
              "</style>\n",
              "<table border=\"1\" class=\"dataframe\">\n",
              "  <thead>\n",
              "    <tr style=\"text-align: right;\">\n",
              "      <th></th>\n",
              "      <th>countyCode</th>\n",
              "      <th>countyName</th>\n",
              "      <th>cityCode</th>\n",
              "      <th>cityName</th>\n",
              "      <th>HotelCode</th>\n",
              "      <th>HotelName</th>\n",
              "      <th>HotelRating</th>\n",
              "      <th>Address</th>\n",
              "      <th>Description</th>\n",
              "      <th>HotelFacilities</th>\n",
              "      <th>Map</th>\n",
              "      <th>Description_Sentiment</th>\n",
              "      <th>HotelFacilities_Sentiment</th>\n",
              "      <th>Named_Entities</th>\n",
              "    </tr>\n",
              "  </thead>\n",
              "  <tbody>\n",
              "    <tr>\n",
              "      <th>0</th>\n",
              "      <td>AL</td>\n",
              "      <td>Albania</td>\n",
              "      <td>106078</td>\n",
              "      <td>Albanien</td>\n",
              "      <td>1003300</td>\n",
              "      <td>De Paris Hotel</td>\n",
              "      <td>4.0</td>\n",
              "      <td>Nr. 7 Brigada Viii Street Tirane</td>\n",
              "      <td>Hotel de Paris is a charming boutique hotel th...</td>\n",
              "      <td>Private parking Parking onsite Television in c...</td>\n",
              "      <td>41.32213|19.81665</td>\n",
              "      <td>0.9623</td>\n",
              "      <td>0.9231</td>\n",
              "      <td>[(Parking onsite Television, ORG), (Airport, P...</td>\n",
              "    </tr>\n",
              "    <tr>\n",
              "      <th>1</th>\n",
              "      <td>AL</td>\n",
              "      <td>Albania</td>\n",
              "      <td>106078</td>\n",
              "      <td>Albanien</td>\n",
              "      <td>1003301</td>\n",
              "      <td>Hotel Green</td>\n",
              "      <td>4.0</td>\n",
              "      <td>Rruga Kavajes. Kombinat Km 2. Vaqarr VaqarrTir...</td>\n",
              "      <td>Located in a suburb of Tirana, Hotel Green is ...</td>\n",
              "      <td>airport pick up wifi available in all areas Ai...</td>\n",
              "      <td>41.30413|19.74703</td>\n",
              "      <td>0.8807</td>\n",
              "      <td>0.5106</td>\n",
              "      <td>[(Air, ORG), (Luggage, PERSON), (Packed, PERSO...</td>\n",
              "    </tr>\n",
              "    <tr>\n",
              "      <th>2</th>\n",
              "      <td>AL</td>\n",
              "      <td>Albania</td>\n",
              "      <td>106078</td>\n",
              "      <td>Albanien</td>\n",
              "      <td>1003302</td>\n",
              "      <td>Theranda Hotel</td>\n",
              "      <td>3.0</td>\n",
              "      <td>Rr. Andon Zako Cajupi Villa 6 &amp; 7 Villa 6 &amp; 7T...</td>\n",
              "      <td>Set in Tirana, 1.2 km from Skanderbeg Square, ...</td>\n",
              "      <td>face masks for guests available all plates  cu...</td>\n",
              "      <td>41.3216|19.81199</td>\n",
              "      <td>0.9393</td>\n",
              "      <td>0.9022</td>\n",
              "      <td>[(Shuttle, GPE), (Fruits Wine, WORK_OF_ART), (...</td>\n",
              "    </tr>\n",
              "    <tr>\n",
              "      <th>3</th>\n",
              "      <td>AL</td>\n",
              "      <td>Albania</td>\n",
              "      <td>106078</td>\n",
              "      <td>Albanien</td>\n",
              "      <td>1003303</td>\n",
              "      <td>Seven Hotel</td>\n",
              "      <td>3.0</td>\n",
              "      <td>KAVAJA STREET, CLOSE TURKISH AMBASSY TIRANA</td>\n",
              "      <td>This hotel enjoys an enviable setting in Tiran...</td>\n",
              "      <td>À la carte dinner Breakfast buffet Breakfast C...</td>\n",
              "      <td>41.328027|19.815052</td>\n",
              "      <td>0.9896</td>\n",
              "      <td>0.0000</td>\n",
              "      <td>[(Breakfast, LOC), (Breakfast Conference room ...</td>\n",
              "    </tr>\n",
              "    <tr>\n",
              "      <th>4</th>\n",
              "      <td>AL</td>\n",
              "      <td>Albania</td>\n",
              "      <td>106078</td>\n",
              "      <td>Albanien</td>\n",
              "      <td>1003325</td>\n",
              "      <td>Viktoria</td>\n",
              "      <td>3.0</td>\n",
              "      <td>Rruga E Elbasanit Km 4 Sauk SaukTirana</td>\n",
              "      <td>Located in a new residential area at the edge ...</td>\n",
              "      <td>internet services Ironing service Family rooms...</td>\n",
              "      <td>41.29125|19.85349</td>\n",
              "      <td>0.9694</td>\n",
              "      <td>0.8807</td>\n",
              "      <td>[(Family, PRODUCT), (Laundry Airport, FAC), (G...</td>\n",
              "    </tr>\n",
              "  </tbody>\n",
              "</table>\n",
              "</div>\n",
              "    <div class=\"colab-df-buttons\">\n",
              "\n",
              "  <div class=\"colab-df-container\">\n",
              "    <button class=\"colab-df-convert\" onclick=\"convertToInteractive('df-425ca358-8b06-46d4-9dd7-317164449659')\"\n",
              "            title=\"Convert this dataframe to an interactive table.\"\n",
              "            style=\"display:none;\">\n",
              "\n",
              "  <svg xmlns=\"http://www.w3.org/2000/svg\" height=\"24px\" viewBox=\"0 -960 960 960\">\n",
              "    <path d=\"M120-120v-720h720v720H120Zm60-500h600v-160H180v160Zm220 220h160v-160H400v160Zm0 220h160v-160H400v160ZM180-400h160v-160H180v160Zm440 0h160v-160H620v160ZM180-180h160v-160H180v160Zm440 0h160v-160H620v160Z\"/>\n",
              "  </svg>\n",
              "    </button>\n",
              "\n",
              "  <style>\n",
              "    .colab-df-container {\n",
              "      display:flex;\n",
              "      gap: 12px;\n",
              "    }\n",
              "\n",
              "    .colab-df-convert {\n",
              "      background-color: #E8F0FE;\n",
              "      border: none;\n",
              "      border-radius: 50%;\n",
              "      cursor: pointer;\n",
              "      display: none;\n",
              "      fill: #1967D2;\n",
              "      height: 32px;\n",
              "      padding: 0 0 0 0;\n",
              "      width: 32px;\n",
              "    }\n",
              "\n",
              "    .colab-df-convert:hover {\n",
              "      background-color: #E2EBFA;\n",
              "      box-shadow: 0px 1px 2px rgba(60, 64, 67, 0.3), 0px 1px 3px 1px rgba(60, 64, 67, 0.15);\n",
              "      fill: #174EA6;\n",
              "    }\n",
              "\n",
              "    .colab-df-buttons div {\n",
              "      margin-bottom: 4px;\n",
              "    }\n",
              "\n",
              "    [theme=dark] .colab-df-convert {\n",
              "      background-color: #3B4455;\n",
              "      fill: #D2E3FC;\n",
              "    }\n",
              "\n",
              "    [theme=dark] .colab-df-convert:hover {\n",
              "      background-color: #434B5C;\n",
              "      box-shadow: 0px 1px 3px 1px rgba(0, 0, 0, 0.15);\n",
              "      filter: drop-shadow(0px 1px 2px rgba(0, 0, 0, 0.3));\n",
              "      fill: #FFFFFF;\n",
              "    }\n",
              "  </style>\n",
              "\n",
              "    <script>\n",
              "      const buttonEl =\n",
              "        document.querySelector('#df-425ca358-8b06-46d4-9dd7-317164449659 button.colab-df-convert');\n",
              "      buttonEl.style.display =\n",
              "        google.colab.kernel.accessAllowed ? 'block' : 'none';\n",
              "\n",
              "      async function convertToInteractive(key) {\n",
              "        const element = document.querySelector('#df-425ca358-8b06-46d4-9dd7-317164449659');\n",
              "        const dataTable =\n",
              "          await google.colab.kernel.invokeFunction('convertToInteractive',\n",
              "                                                    [key], {});\n",
              "        if (!dataTable) return;\n",
              "\n",
              "        const docLinkHtml = 'Like what you see? Visit the ' +\n",
              "          '<a target=\"_blank\" href=https://colab.research.google.com/notebooks/data_table.ipynb>data table notebook</a>'\n",
              "          + ' to learn more about interactive tables.';\n",
              "        element.innerHTML = '';\n",
              "        dataTable['output_type'] = 'display_data';\n",
              "        await google.colab.output.renderOutput(dataTable, element);\n",
              "        const docLink = document.createElement('div');\n",
              "        docLink.innerHTML = docLinkHtml;\n",
              "        element.appendChild(docLink);\n",
              "      }\n",
              "    </script>\n",
              "  </div>\n",
              "\n",
              "\n",
              "<div id=\"df-780a15cd-a4c2-4b63-9895-326d150f572f\">\n",
              "  <button class=\"colab-df-quickchart\" onclick=\"quickchart('df-780a15cd-a4c2-4b63-9895-326d150f572f')\"\n",
              "            title=\"Suggest charts\"\n",
              "            style=\"display:none;\">\n",
              "\n",
              "<svg xmlns=\"http://www.w3.org/2000/svg\" height=\"24px\"viewBox=\"0 0 24 24\"\n",
              "     width=\"24px\">\n",
              "    <g>\n",
              "        <path d=\"M19 3H5c-1.1 0-2 .9-2 2v14c0 1.1.9 2 2 2h14c1.1 0 2-.9 2-2V5c0-1.1-.9-2-2-2zM9 17H7v-7h2v7zm4 0h-2V7h2v10zm4 0h-2v-4h2v4z\"/>\n",
              "    </g>\n",
              "</svg>\n",
              "  </button>\n",
              "\n",
              "<style>\n",
              "  .colab-df-quickchart {\n",
              "      --bg-color: #E8F0FE;\n",
              "      --fill-color: #1967D2;\n",
              "      --hover-bg-color: #E2EBFA;\n",
              "      --hover-fill-color: #174EA6;\n",
              "      --disabled-fill-color: #AAA;\n",
              "      --disabled-bg-color: #DDD;\n",
              "  }\n",
              "\n",
              "  [theme=dark] .colab-df-quickchart {\n",
              "      --bg-color: #3B4455;\n",
              "      --fill-color: #D2E3FC;\n",
              "      --hover-bg-color: #434B5C;\n",
              "      --hover-fill-color: #FFFFFF;\n",
              "      --disabled-bg-color: #3B4455;\n",
              "      --disabled-fill-color: #666;\n",
              "  }\n",
              "\n",
              "  .colab-df-quickchart {\n",
              "    background-color: var(--bg-color);\n",
              "    border: none;\n",
              "    border-radius: 50%;\n",
              "    cursor: pointer;\n",
              "    display: none;\n",
              "    fill: var(--fill-color);\n",
              "    height: 32px;\n",
              "    padding: 0;\n",
              "    width: 32px;\n",
              "  }\n",
              "\n",
              "  .colab-df-quickchart:hover {\n",
              "    background-color: var(--hover-bg-color);\n",
              "    box-shadow: 0 1px 2px rgba(60, 64, 67, 0.3), 0 1px 3px 1px rgba(60, 64, 67, 0.15);\n",
              "    fill: var(--button-hover-fill-color);\n",
              "  }\n",
              "\n",
              "  .colab-df-quickchart-complete:disabled,\n",
              "  .colab-df-quickchart-complete:disabled:hover {\n",
              "    background-color: var(--disabled-bg-color);\n",
              "    fill: var(--disabled-fill-color);\n",
              "    box-shadow: none;\n",
              "  }\n",
              "\n",
              "  .colab-df-spinner {\n",
              "    border: 2px solid var(--fill-color);\n",
              "    border-color: transparent;\n",
              "    border-bottom-color: var(--fill-color);\n",
              "    animation:\n",
              "      spin 1s steps(1) infinite;\n",
              "  }\n",
              "\n",
              "  @keyframes spin {\n",
              "    0% {\n",
              "      border-color: transparent;\n",
              "      border-bottom-color: var(--fill-color);\n",
              "      border-left-color: var(--fill-color);\n",
              "    }\n",
              "    20% {\n",
              "      border-color: transparent;\n",
              "      border-left-color: var(--fill-color);\n",
              "      border-top-color: var(--fill-color);\n",
              "    }\n",
              "    30% {\n",
              "      border-color: transparent;\n",
              "      border-left-color: var(--fill-color);\n",
              "      border-top-color: var(--fill-color);\n",
              "      border-right-color: var(--fill-color);\n",
              "    }\n",
              "    40% {\n",
              "      border-color: transparent;\n",
              "      border-right-color: var(--fill-color);\n",
              "      border-top-color: var(--fill-color);\n",
              "    }\n",
              "    60% {\n",
              "      border-color: transparent;\n",
              "      border-right-color: var(--fill-color);\n",
              "    }\n",
              "    80% {\n",
              "      border-color: transparent;\n",
              "      border-right-color: var(--fill-color);\n",
              "      border-bottom-color: var(--fill-color);\n",
              "    }\n",
              "    90% {\n",
              "      border-color: transparent;\n",
              "      border-bottom-color: var(--fill-color);\n",
              "    }\n",
              "  }\n",
              "</style>\n",
              "\n",
              "  <script>\n",
              "    async function quickchart(key) {\n",
              "      const quickchartButtonEl =\n",
              "        document.querySelector('#' + key + ' button');\n",
              "      quickchartButtonEl.disabled = true;  // To prevent multiple clicks.\n",
              "      quickchartButtonEl.classList.add('colab-df-spinner');\n",
              "      try {\n",
              "        const charts = await google.colab.kernel.invokeFunction(\n",
              "            'suggestCharts', [key], {});\n",
              "      } catch (error) {\n",
              "        console.error('Error during call to suggestCharts:', error);\n",
              "      }\n",
              "      quickchartButtonEl.classList.remove('colab-df-spinner');\n",
              "      quickchartButtonEl.classList.add('colab-df-quickchart-complete');\n",
              "    }\n",
              "    (() => {\n",
              "      let quickchartButtonEl =\n",
              "        document.querySelector('#df-780a15cd-a4c2-4b63-9895-326d150f572f button');\n",
              "      quickchartButtonEl.style.display =\n",
              "        google.colab.kernel.accessAllowed ? 'block' : 'none';\n",
              "    })();\n",
              "  </script>\n",
              "</div>\n",
              "\n",
              "    </div>\n",
              "  </div>\n"
            ],
            "application/vnd.google.colaboratory.intrinsic+json": {
              "type": "dataframe",
              "variable_name": "batch_df",
              "summary": "{\n  \"name\": \"batch_df\",\n  \"rows\": 100000,\n  \"fields\": [\n    {\n      \"column\": \"countyCode\",\n      \"properties\": {\n        \"dtype\": \"category\",\n        \"num_unique_values\": 17,\n        \"samples\": [\n          \"AL\",\n          \"AD\",\n          \"AU\"\n        ],\n        \"semantic_type\": \"\",\n        \"description\": \"\"\n      }\n    },\n    {\n      \"column\": \"countyName\",\n      \"properties\": {\n        \"dtype\": \"category\",\n        \"num_unique_values\": 17,\n        \"samples\": [\n          \"Albania\",\n          \"Andorra\",\n          \"Australia\"\n        ],\n        \"semantic_type\": \"\",\n        \"description\": \"\"\n      }\n    },\n    {\n      \"column\": \"cityCode\",\n      \"properties\": {\n        \"dtype\": \"number\",\n        \"std\": 13979,\n        \"min\": 100023,\n        \"max\": 151803,\n        \"num_unique_values\": 3788,\n        \"samples\": [\n          107905,\n          127256,\n          147697\n        ],\n        \"semantic_type\": \"\",\n        \"description\": \"\"\n      }\n    },\n    {\n      \"column\": \"cityName\",\n      \"properties\": {\n        \"dtype\": \"category\",\n        \"num_unique_values\": 3783,\n        \"samples\": [\n          \"Woodside\",\n          \"Wentworth Falls,   New South Wales\",\n          \"Itajai\"\n        ],\n        \"semantic_type\": \"\",\n        \"description\": \"\"\n      }\n    },\n    {\n      \"column\": \"HotelCode\",\n      \"properties\": {\n        \"dtype\": \"number\",\n        \"std\": 2078466,\n        \"min\": 1000076,\n        \"max\": 6194366,\n        \"num_unique_values\": 78139,\n        \"samples\": [\n          5555288,\n          1427481,\n          1540021\n        ],\n        \"semantic_type\": \"\",\n        \"description\": \"\"\n      }\n    },\n    {\n      \"column\": \"HotelName\",\n      \"properties\": {\n        \"dtype\": \"string\",\n        \"num_unique_values\": 75442,\n        \"samples\": [\n          \"Child-friendly Apartment in Hainzenberg Near Forest\",\n          \"Condominio Ctc Edificio Araras\",\n          \"Cabanas Merale Excelente Ubicacion\"\n        ],\n        \"semantic_type\": \"\",\n        \"description\": \"\"\n      }\n    },\n    {\n      \"column\": \"HotelRating\",\n      \"properties\": {\n        \"dtype\": \"number\",\n        \"std\": 0.7407018229074175,\n        \"min\": 1.0,\n        \"max\": 5.0,\n        \"num_unique_values\": 5,\n        \"samples\": [\n          3.0,\n          1.0,\n          5.0\n        ],\n        \"semantic_type\": \"\",\n        \"description\": \"\"\n      }\n    },\n    {\n      \"column\": \"Address\",\n      \"properties\": {\n        \"dtype\": \"string\",\n        \"num_unique_values\": 76203,\n        \"samples\": [\n          \"Rep\\u00fablica 347 K4700BMG Ciudad de CatamarcaCatamarca \",\n          \"Vorderlanersbach 70 6293 TuxTirol \",\n          \"Place de Nedonchel 10 7500 Tournai \"\n        ],\n        \"semantic_type\": \"\",\n        \"description\": \"\"\n      }\n    },\n    {\n      \"column\": \"Description\",\n      \"properties\": {\n        \"dtype\": \"string\",\n        \"num_unique_values\": 69594,\n        \"samples\": [\n          \"<p>HeadLine : Near Mid North Coast Maritime Museum</p><p>Location : With a stay at Sandcastle Apartments in Port Macquarie, you ll be near the beach, within a 10-minute drive of Lighthouse Beach and Mid North Coast Maritime Museum.  This 4.5-star apartment is 0.2 mi (0.3 km) from Town Beach and 0.2 mi (0.3 km) from Port Macquarie Astronomical Association Observatory.</p><p>Rooms : Make yourself at home in one of the 22 air-conditioned rooms featuring kitchens with full-sized refrigerators/freezers and stovetops. Rooms have private balconies. LED televisions with cable programming are available for your entertainment, and DVD players are also provided. Conveniences include microwaves and coffee/tea makers.</p><p>Dining : At Sandcastle Apartments, enjoy a satisfying meal at the restaurant.</p><p>CheckIn Instructions : Extra-person charges may apply and vary depending on property policy. <br />Government-issued photo identification and a credit card, debit card, or cash deposit are required at check-in for incidental charges. <br />Special requests are subject to availability upon check-in and may incur additional charges. Special requests cannot be guaranteed. <ul>  </ul></p>\",\n          \"Situated in C\\u00e1ceres, less than 1 km from Praia do Daveron, Gasparim Grand Hotel features accommodation with a shared lounge, free private parking and a garden. The accommodation provides a 24-hour front desk as well as free WiFi throughout the property.\\n\\nAt the hotel, rooms come with a desk, a flat-screen TV and a private bathroom. The rooms at Gasparim Grand Hotel have air conditioning and a wardrobe.\",\n          \"<p>HeadLine : Near Ceduna National Trust Museum</p><p>Location : When you stay at A1 Cabins Ceduna in Ceduna, you ll be near the beach, within a 15-minute walk of Ceduna National Trust Museum and Murat Bay.  This hotel is 1 mi (1.6 km) from Ceduna Golf Course and 6.4 mi (10.2 km) from Nuyts Archipelago Conservation Park.</p><p>Rooms : Make yourself at home in one of the 23 air-conditioned rooms featuring refrigerators and flat-screen televisions. Complimentary wireless Internet access is available to keep you connected. Bathrooms have showers and complimentary toiletries. Conveniences include microwaves and coffee/tea makers, and housekeeping is provided on a limited basis.</p><p>CheckIn Instructions : <ul>  <li>Extra-person charges may apply and vary depending on property policy</li><li>Government-issued photo identification and a credit card, debit card, or cash deposit may be required at check-in for incidental charges</li><li>Special requests are subject to availability upon check-in and may incur additional charges; special requests cannot be guaranteed</li><li>This property accepts Visa and Mastercard; cash is not accepted</li><li>Safety features at this property include a fire extinguisher, a security system, and a first aid kit</li>  </ul></p><p>Special Instructions : This property doesn t offer after-hours check-in. Front desk staff will greet guests on arrival.</p>\"\n        ],\n        \"semantic_type\": \"\",\n        \"description\": \"\"\n      }\n    },\n    {\n      \"column\": \"HotelFacilities\",\n      \"properties\": {\n        \"dtype\": \"string\",\n        \"num_unique_values\": 67370,\n        \"samples\": [\n          \"thermometers for guests provided by property face masks for guests available CCTV outside property Fire extinguishers use of cleaning chemicals that are effective against coronavirus linens  towels and laundry washed in accordance with local authority guidelines guest accommodation is disinfected between stays physical distancing in dining areas staff follow all safety protocols as directed by local authorities shared stationery such as printed menus  magazines  pens  and paper removed hand sanitizer in guest accommodation and key areas first aid kit available cashless payment available physical distancing rules followed mobile app for room service all plates  cutlery  glasses and other tableware have been sanitized guests have the option to cancel any cleaning services for their accommodation during their stay Parking Bar Sauna Fitness centre Garden Terrace Non-smoking rooms Facilities for disabled guests Skiing Family rooms Free parking internet services lift Safety Deposit Box Spa and wellness centre Massage Heating Luggage storage wifi Ski storage Allergy-free room Free WiFi Non-smoking throughout Sun terrace Ski pass vendor Special diet menus (on request) parking on site Private parking wifi available in all areas Parking garage electric vehicle charging station Accessible parking Wheelchair accessible Higher level toilet Emergency cord in bathroom Fruits Outdoor furniture Fitness Key card access Security alarm Smoke alarms CCTV in common areas\",\n          \"staff follow all safety protocols as directed by local authorities hand sanitizer in guest accommodation and key areas contactless check-in/check-out cashless payment available physical distancing rules followed all plates  cutlery  glasses and other tableware have been sanitized Restaurant Pets allowed Bar Terrace Non-smoking rooms Family rooms internet services lift express check-in/check-out Heating Fax/photocopying Luggage storage wifi Free WiFi Non-smoking throughout Air conditioning Private check-in/check-out Daily housekeeping wifi available in all areas Kid meals Kid-friendly buffet Wine/champagne Key card access Smoke alarms CCTV in common areas CCTV outside property Fire extinguishers bicycle rental use of cleaning chemicals that are effective against coronavirus linens  towels and laundry washed in accordance with local authority guidelines guests have the option to cancel any cleaning services for their accommodation during their stay\",\n          \"Daily Smoke-free property Free breakfast Front desk (limited hours) Free continental breakfast Free WiFi\"\n        ],\n        \"semantic_type\": \"\",\n        \"description\": \"\"\n      }\n    },\n    {\n      \"column\": \"Map\",\n      \"properties\": {\n        \"dtype\": \"string\",\n        \"num_unique_values\": 75384,\n        \"samples\": [\n          \"-41.15881|-71.41253\",\n          \"-2.91511|-41.40118\",\n          \"47.50724|12.19091\"\n        ],\n        \"semantic_type\": \"\",\n        \"description\": \"\"\n      }\n    },\n    {\n      \"column\": \"Description_Sentiment\",\n      \"properties\": {\n        \"dtype\": \"number\",\n        \"std\": 0.400167535649351,\n        \"min\": -0.9517,\n        \"max\": 0.9992,\n        \"num_unique_values\": 1857,\n        \"samples\": [\n          0.9828,\n          0.932,\n          0.9248\n        ],\n        \"semantic_type\": \"\",\n        \"description\": \"\"\n      }\n    },\n    {\n      \"column\": \"HotelFacilities_Sentiment\",\n      \"properties\": {\n        \"dtype\": \"number\",\n        \"std\": 0.41957898847659447,\n        \"min\": -0.9725,\n        \"max\": 0.9963,\n        \"num_unique_values\": 616,\n        \"samples\": [\n          0.9868,\n          0.9592,\n          0.9835\n        ],\n        \"semantic_type\": \"\",\n        \"description\": \"\"\n      }\n    },\n    {\n      \"column\": \"Named_Entities\",\n      \"properties\": {\n        \"dtype\": \"object\",\n        \"semantic_type\": \"\",\n        \"description\": \"\"\n      }\n    }\n  ]\n}"
            }
          },
          "metadata": {},
          "execution_count": 10
        }
      ]
    },
    {
      "cell_type": "code",
      "source": [
        "\n",
        "import ast\n",
        "\n",
        "\n",
        "csv_path = \"/content/drive/My Drive/Colab Notebooks/Sentiments/batch_100000_named_entities.csv\"\n",
        "hotel_df = pd.read_csv(csv_path, encoding='ISO-8859-1')\n",
        "\n",
        "\n",
        "hotel_df['Named_Entities'] = hotel_df['Named_Entities'].apply(lambda x: ast.literal_eval(x) if isinstance(x, str) else x)\n",
        "\n",
        "print(hotel_df.head())\n"
      ],
      "metadata": {
        "colab": {
          "base_uri": "https://localhost:8080/"
        },
        "id": "krseVpB8Zi9k",
        "outputId": "86e0d818-3ad3-4a87-b73f-c41f647feb75"
      },
      "execution_count": 4,
      "outputs": [
        {
          "output_type": "stream",
          "name": "stdout",
          "text": [
            "  countyCode countyName  cityCode  cityName  HotelCode       HotelName  \\\n",
            "0         AL    Albania    106078  Albanien    1003300  De Paris Hotel   \n",
            "1         AL    Albania    106078  Albanien    1003301     Hotel Green   \n",
            "2         AL    Albania    106078  Albanien    1003302  Theranda Hotel   \n",
            "3         AL    Albania    106078  Albanien    1003303     Seven Hotel   \n",
            "4         AL    Albania    106078  Albanien    1003325        Viktoria   \n",
            "\n",
            "   HotelRating                                            Address  \\\n",
            "0          4.0                  Nr. 7 Brigada Viii Street Tirane    \n",
            "1          4.0  Rruga Kavajes. Kombinat Km 2. Vaqarr VaqarrTir...   \n",
            "2          3.0  Rr. Andon Zako Cajupi Villa 6 & 7 Villa 6 & 7T...   \n",
            "3          3.0       KAVAJA STREET, CLOSE TURKISH AMBASSY TIRANA    \n",
            "4          3.0            Rruga E Elbasanit Km 4 Sauk SaukTirana    \n",
            "\n",
            "                                         Description  \\\n",
            "0  Hotel de Paris is a charming boutique hotel th...   \n",
            "1  Located in a suburb of Tirana, Hotel Green is ...   \n",
            "2  Set in Tirana, 1.2 km from Skanderbeg Square, ...   \n",
            "3  This hotel enjoys an enviable setting in Tiran...   \n",
            "4  Located in a new residential area at the edge ...   \n",
            "\n",
            "                                     HotelFacilities                  Map  \\\n",
            "0  Private parking Parking onsite Television in c...    41.32213|19.81665   \n",
            "1  airport pick up wifi available in all areas Ai...    41.30413|19.74703   \n",
            "2  face masks for guests available all plates  cu...     41.3216|19.81199   \n",
            "3  Ã la carte dinner Breakfast buffet Breakfast ...  41.328027|19.815052   \n",
            "4  internet services Ironing service Family rooms...    41.29125|19.85349   \n",
            "\n",
            "   Description_Sentiment  HotelFacilities_Sentiment  \\\n",
            "0                 0.9623                     0.9231   \n",
            "1                 0.8807                     0.5106   \n",
            "2                 0.9393                     0.9022   \n",
            "3                 0.9896                     0.0000   \n",
            "4                 0.9694                     0.8807   \n",
            "\n",
            "                                      Named_Entities  \n",
            "0  [(Parking onsite Television, ORG), (Airport, P...  \n",
            "1  [(Air, ORG), (Luggage, PERSON), (Packed, PERSO...  \n",
            "2  [(Shuttle, GPE), (Fruits Wine, WORK_OF_ART), (...  \n",
            "3  [(Breakfast, LOC), (Breakfast Conference room ...  \n",
            "4  [(Family, PRODUCT), (Laundry Airport, FAC), (G...  \n"
          ]
        }
      ]
    },
    {
      "cell_type": "code",
      "source": [
        "from langchain.docstore.document import Document\n",
        "\n",
        "docs = []\n",
        "for idx, row in hotel_df.iterrows():\n",
        "    # Build a text representation of the hotel profile.\n",
        "    # Feel free to adjust the formatting or the fields included.\n",
        "    text = (\n",
        "        f\"Hotel Name: {row['HotelName']}\\n\"\n",
        "        f\"Description: {row['Description']}\\n\"\n",
        "        f\"Facilities: {row['HotelFacilities']}\\n\"\n",
        "        f\"Description Sentiment: {row['Description_Sentiment']}\\n\"\n",
        "        f\"Facilities Sentiment: {row['HotelFacilities_Sentiment']}\\n\"\n",
        "        f\"Named Entities: {row['Named_Entities']}\\n\"\n",
        "    )\n",
        "    # Create a Document with metadata (using HotelCode as the unique identifier)\n",
        "    docs.append(Document(page_content=text, metadata={\"hotel_id\": row[\"HotelCode\"]}))\n",
        "\n",
        "print(f\"Created {len(docs)} documents from hotel profiles.\")\n"
      ],
      "metadata": {
        "colab": {
          "base_uri": "https://localhost:8080/"
        },
        "id": "2Wv2ZsqtZ6b4",
        "outputId": "5bcba2cc-554b-4019-d12d-328a6fa48132"
      },
      "execution_count": 5,
      "outputs": [
        {
          "output_type": "stream",
          "name": "stdout",
          "text": [
            "Created 100000 documents from hotel profiles.\n"
          ]
        }
      ]
    },
    {
      "cell_type": "code",
      "source": [
        "pip install -U langchain-community"
      ],
      "metadata": {
        "colab": {
          "base_uri": "https://localhost:8080/"
        },
        "id": "QH-QUr4PaS5b",
        "outputId": "8798fb17-73f1-41d5-d9e4-49ef6158f508"
      },
      "execution_count": 6,
      "outputs": [
        {
          "output_type": "stream",
          "name": "stdout",
          "text": [
            "Collecting langchain-community\n",
            "  Downloading langchain_community-0.3.21-py3-none-any.whl.metadata (2.4 kB)\n",
            "Collecting langchain-core<1.0.0,>=0.3.51 (from langchain-community)\n",
            "  Downloading langchain_core-0.3.51-py3-none-any.whl.metadata (5.9 kB)\n",
            "Collecting langchain<1.0.0,>=0.3.23 (from langchain-community)\n",
            "  Downloading langchain-0.3.23-py3-none-any.whl.metadata (7.8 kB)\n",
            "Requirement already satisfied: SQLAlchemy<3,>=1.4 in /usr/local/lib/python3.11/dist-packages (from langchain-community) (2.0.40)\n",
            "Requirement already satisfied: requests<3,>=2 in /usr/local/lib/python3.11/dist-packages (from langchain-community) (2.32.3)\n",
            "Requirement already satisfied: PyYAML>=5.3 in /usr/local/lib/python3.11/dist-packages (from langchain-community) (6.0.2)\n",
            "Requirement already satisfied: aiohttp<4.0.0,>=3.8.3 in /usr/local/lib/python3.11/dist-packages (from langchain-community) (3.11.15)\n",
            "Requirement already satisfied: tenacity!=8.4.0,<10,>=8.1.0 in /usr/local/lib/python3.11/dist-packages (from langchain-community) (9.1.2)\n",
            "Collecting dataclasses-json<0.7,>=0.5.7 (from langchain-community)\n",
            "  Downloading dataclasses_json-0.6.7-py3-none-any.whl.metadata (25 kB)\n",
            "Collecting pydantic-settings<3.0.0,>=2.4.0 (from langchain-community)\n",
            "  Downloading pydantic_settings-2.8.1-py3-none-any.whl.metadata (3.5 kB)\n",
            "Requirement already satisfied: langsmith<0.4,>=0.1.125 in /usr/local/lib/python3.11/dist-packages (from langchain-community) (0.3.22)\n",
            "Collecting httpx-sse<1.0.0,>=0.4.0 (from langchain-community)\n",
            "  Downloading httpx_sse-0.4.0-py3-none-any.whl.metadata (9.0 kB)\n",
            "Requirement already satisfied: numpy<3,>=1.26.2 in /usr/local/lib/python3.11/dist-packages (from langchain-community) (2.0.2)\n",
            "Requirement already satisfied: aiohappyeyeballs>=2.3.0 in /usr/local/lib/python3.11/dist-packages (from aiohttp<4.0.0,>=3.8.3->langchain-community) (2.6.1)\n",
            "Requirement already satisfied: aiosignal>=1.1.2 in /usr/local/lib/python3.11/dist-packages (from aiohttp<4.0.0,>=3.8.3->langchain-community) (1.3.2)\n",
            "Requirement already satisfied: attrs>=17.3.0 in /usr/local/lib/python3.11/dist-packages (from aiohttp<4.0.0,>=3.8.3->langchain-community) (25.3.0)\n",
            "Requirement already satisfied: frozenlist>=1.1.1 in /usr/local/lib/python3.11/dist-packages (from aiohttp<4.0.0,>=3.8.3->langchain-community) (1.5.0)\n",
            "Requirement already satisfied: multidict<7.0,>=4.5 in /usr/local/lib/python3.11/dist-packages (from aiohttp<4.0.0,>=3.8.3->langchain-community) (6.3.1)\n",
            "Requirement already satisfied: propcache>=0.2.0 in /usr/local/lib/python3.11/dist-packages (from aiohttp<4.0.0,>=3.8.3->langchain-community) (0.3.1)\n",
            "Requirement already satisfied: yarl<2.0,>=1.17.0 in /usr/local/lib/python3.11/dist-packages (from aiohttp<4.0.0,>=3.8.3->langchain-community) (1.18.3)\n",
            "Collecting marshmallow<4.0.0,>=3.18.0 (from dataclasses-json<0.7,>=0.5.7->langchain-community)\n",
            "  Downloading marshmallow-3.26.1-py3-none-any.whl.metadata (7.3 kB)\n",
            "Collecting typing-inspect<1,>=0.4.0 (from dataclasses-json<0.7,>=0.5.7->langchain-community)\n",
            "  Downloading typing_inspect-0.9.0-py3-none-any.whl.metadata (1.5 kB)\n",
            "Collecting langchain-text-splitters<1.0.0,>=0.3.8 (from langchain<1.0.0,>=0.3.23->langchain-community)\n",
            "  Downloading langchain_text_splitters-0.3.8-py3-none-any.whl.metadata (1.9 kB)\n",
            "Requirement already satisfied: pydantic<3.0.0,>=2.7.4 in /usr/local/lib/python3.11/dist-packages (from langchain<1.0.0,>=0.3.23->langchain-community) (2.11.1)\n",
            "Requirement already satisfied: jsonpatch<2.0,>=1.33 in /usr/local/lib/python3.11/dist-packages (from langchain-core<1.0.0,>=0.3.51->langchain-community) (1.33)\n",
            "Requirement already satisfied: packaging<25,>=23.2 in /usr/local/lib/python3.11/dist-packages (from langchain-core<1.0.0,>=0.3.51->langchain-community) (24.2)\n",
            "Requirement already satisfied: typing-extensions>=4.7 in /usr/local/lib/python3.11/dist-packages (from langchain-core<1.0.0,>=0.3.51->langchain-community) (4.13.0)\n",
            "Requirement already satisfied: httpx<1,>=0.23.0 in /usr/local/lib/python3.11/dist-packages (from langsmith<0.4,>=0.1.125->langchain-community) (0.28.1)\n",
            "Requirement already satisfied: orjson<4.0.0,>=3.9.14 in /usr/local/lib/python3.11/dist-packages (from langsmith<0.4,>=0.1.125->langchain-community) (3.10.16)\n",
            "Requirement already satisfied: requests-toolbelt<2.0.0,>=1.0.0 in /usr/local/lib/python3.11/dist-packages (from langsmith<0.4,>=0.1.125->langchain-community) (1.0.0)\n",
            "Requirement already satisfied: zstandard<0.24.0,>=0.23.0 in /usr/local/lib/python3.11/dist-packages (from langsmith<0.4,>=0.1.125->langchain-community) (0.23.0)\n",
            "Collecting python-dotenv>=0.21.0 (from pydantic-settings<3.0.0,>=2.4.0->langchain-community)\n",
            "  Downloading python_dotenv-1.1.0-py3-none-any.whl.metadata (24 kB)\n",
            "Requirement already satisfied: charset-normalizer<4,>=2 in /usr/local/lib/python3.11/dist-packages (from requests<3,>=2->langchain-community) (3.4.1)\n",
            "Requirement already satisfied: idna<4,>=2.5 in /usr/local/lib/python3.11/dist-packages (from requests<3,>=2->langchain-community) (3.10)\n",
            "Requirement already satisfied: urllib3<3,>=1.21.1 in /usr/local/lib/python3.11/dist-packages (from requests<3,>=2->langchain-community) (2.3.0)\n",
            "Requirement already satisfied: certifi>=2017.4.17 in /usr/local/lib/python3.11/dist-packages (from requests<3,>=2->langchain-community) (2025.1.31)\n",
            "Requirement already satisfied: greenlet>=1 in /usr/local/lib/python3.11/dist-packages (from SQLAlchemy<3,>=1.4->langchain-community) (3.1.1)\n",
            "Requirement already satisfied: anyio in /usr/local/lib/python3.11/dist-packages (from httpx<1,>=0.23.0->langsmith<0.4,>=0.1.125->langchain-community) (4.9.0)\n",
            "Requirement already satisfied: httpcore==1.* in /usr/local/lib/python3.11/dist-packages (from httpx<1,>=0.23.0->langsmith<0.4,>=0.1.125->langchain-community) (1.0.7)\n",
            "Requirement already satisfied: h11<0.15,>=0.13 in /usr/local/lib/python3.11/dist-packages (from httpcore==1.*->httpx<1,>=0.23.0->langsmith<0.4,>=0.1.125->langchain-community) (0.14.0)\n",
            "Requirement already satisfied: jsonpointer>=1.9 in /usr/local/lib/python3.11/dist-packages (from jsonpatch<2.0,>=1.33->langchain-core<1.0.0,>=0.3.51->langchain-community) (3.0.0)\n",
            "Requirement already satisfied: annotated-types>=0.6.0 in /usr/local/lib/python3.11/dist-packages (from pydantic<3.0.0,>=2.7.4->langchain<1.0.0,>=0.3.23->langchain-community) (0.7.0)\n",
            "Requirement already satisfied: pydantic-core==2.33.0 in /usr/local/lib/python3.11/dist-packages (from pydantic<3.0.0,>=2.7.4->langchain<1.0.0,>=0.3.23->langchain-community) (2.33.0)\n",
            "Requirement already satisfied: typing-inspection>=0.4.0 in /usr/local/lib/python3.11/dist-packages (from pydantic<3.0.0,>=2.7.4->langchain<1.0.0,>=0.3.23->langchain-community) (0.4.0)\n",
            "Collecting mypy-extensions>=0.3.0 (from typing-inspect<1,>=0.4.0->dataclasses-json<0.7,>=0.5.7->langchain-community)\n",
            "  Downloading mypy_extensions-1.0.0-py3-none-any.whl.metadata (1.1 kB)\n",
            "Requirement already satisfied: sniffio>=1.1 in /usr/local/lib/python3.11/dist-packages (from anyio->httpx<1,>=0.23.0->langsmith<0.4,>=0.1.125->langchain-community) (1.3.1)\n",
            "Downloading langchain_community-0.3.21-py3-none-any.whl (2.5 MB)\n",
            "\u001b[2K   \u001b[90m━━━━━━━━━━━━━━━━━━━━━━━━━━━━━━━━━━━━━━━━\u001b[0m \u001b[32m2.5/2.5 MB\u001b[0m \u001b[31m56.8 MB/s\u001b[0m eta \u001b[36m0:00:00\u001b[0m\n",
            "\u001b[?25hDownloading dataclasses_json-0.6.7-py3-none-any.whl (28 kB)\n",
            "Downloading httpx_sse-0.4.0-py3-none-any.whl (7.8 kB)\n",
            "Downloading langchain-0.3.23-py3-none-any.whl (1.0 MB)\n",
            "\u001b[2K   \u001b[90m━━━━━━━━━━━━━━━━━━━━━━━━━━━━━━━━━━━━━━━━\u001b[0m \u001b[32m1.0/1.0 MB\u001b[0m \u001b[31m45.8 MB/s\u001b[0m eta \u001b[36m0:00:00\u001b[0m\n",
            "\u001b[?25hDownloading langchain_core-0.3.51-py3-none-any.whl (423 kB)\n",
            "\u001b[2K   \u001b[90m━━━━━━━━━━━━━━━━━━━━━━━━━━━━━━━━━━━━━━━━\u001b[0m \u001b[32m423.3/423.3 kB\u001b[0m \u001b[31m32.4 MB/s\u001b[0m eta \u001b[36m0:00:00\u001b[0m\n",
            "\u001b[?25hDownloading pydantic_settings-2.8.1-py3-none-any.whl (30 kB)\n",
            "Downloading langchain_text_splitters-0.3.8-py3-none-any.whl (32 kB)\n",
            "Downloading marshmallow-3.26.1-py3-none-any.whl (50 kB)\n",
            "\u001b[2K   \u001b[90m━━━━━━━━━━━━━━━━━━━━━━━━━━━━━━━━━━━━━━━━\u001b[0m \u001b[32m50.9/50.9 kB\u001b[0m \u001b[31m4.7 MB/s\u001b[0m eta \u001b[36m0:00:00\u001b[0m\n",
            "\u001b[?25hDownloading python_dotenv-1.1.0-py3-none-any.whl (20 kB)\n",
            "Downloading typing_inspect-0.9.0-py3-none-any.whl (8.8 kB)\n",
            "Downloading mypy_extensions-1.0.0-py3-none-any.whl (4.7 kB)\n",
            "Installing collected packages: python-dotenv, mypy-extensions, marshmallow, httpx-sse, typing-inspect, pydantic-settings, dataclasses-json, langchain-core, langchain-text-splitters, langchain, langchain-community\n",
            "  Attempting uninstall: langchain-core\n",
            "    Found existing installation: langchain-core 0.3.49\n",
            "    Uninstalling langchain-core-0.3.49:\n",
            "      Successfully uninstalled langchain-core-0.3.49\n",
            "  Attempting uninstall: langchain-text-splitters\n",
            "    Found existing installation: langchain-text-splitters 0.3.7\n",
            "    Uninstalling langchain-text-splitters-0.3.7:\n",
            "      Successfully uninstalled langchain-text-splitters-0.3.7\n",
            "  Attempting uninstall: langchain\n",
            "    Found existing installation: langchain 0.3.22\n",
            "    Uninstalling langchain-0.3.22:\n",
            "      Successfully uninstalled langchain-0.3.22\n",
            "Successfully installed dataclasses-json-0.6.7 httpx-sse-0.4.0 langchain-0.3.23 langchain-community-0.3.21 langchain-core-0.3.51 langchain-text-splitters-0.3.8 marshmallow-3.26.1 mypy-extensions-1.0.0 pydantic-settings-2.8.1 python-dotenv-1.1.0 typing-inspect-0.9.0\n"
          ]
        }
      ]
    },
    {
      "cell_type": "code",
      "source": [
        "pip install python-dotenv\n"
      ],
      "metadata": {
        "colab": {
          "base_uri": "https://localhost:8080/"
        },
        "id": "B16sP89EcPKU",
        "outputId": "3ca59412-9a39-42fc-8dab-35787d436bb4"
      },
      "execution_count": 9,
      "outputs": [
        {
          "output_type": "stream",
          "name": "stdout",
          "text": [
            "Requirement already satisfied: python-dotenv in /usr/local/lib/python3.11/dist-packages (1.1.0)\n"
          ]
        }
      ]
    },
    {
      "cell_type": "code",
      "source": [
        "import os\n",
        "from dotenv import load_dotenv\n",
        "\n",
        "\n",
        "env_path = '/content/drive/MyDrive/Colab Notebooks/Sentiments/OPEN_AI_KEY.env'\n",
        "load_dotenv(dotenv_path=env_path)\n",
        "\n",
        "# Now, check if the API key is loaded\n",
        "openai_api_key = os.getenv(\"OPENAI_API_KEY\")\n",
        "print(\"API key loaded:\", openai_api_key is not None)\n",
        "\n"
      ],
      "metadata": {
        "colab": {
          "base_uri": "https://localhost:8080/"
        },
        "id": "2JzXrIKTcRCo",
        "outputId": "253981f1-7073-48b5-8702-84727668f41c"
      },
      "execution_count": 7,
      "outputs": [
        {
          "output_type": "stream",
          "name": "stdout",
          "text": [
            "API key loaded: True\n"
          ]
        }
      ]
    },
    {
      "cell_type": "code",
      "source": [
        "pip install tiktoken"
      ],
      "metadata": {
        "colab": {
          "base_uri": "https://localhost:8080/"
        },
        "id": "6-FGWQRKc_nR",
        "outputId": "e312e14e-b649-4ae0-b7cf-986ef21d9d89"
      },
      "execution_count": 10,
      "outputs": [
        {
          "output_type": "stream",
          "name": "stdout",
          "text": [
            "Collecting tiktoken\n",
            "  Downloading tiktoken-0.9.0-cp311-cp311-manylinux_2_17_x86_64.manylinux2014_x86_64.whl.metadata (6.7 kB)\n",
            "Requirement already satisfied: regex>=2022.1.18 in /usr/local/lib/python3.11/dist-packages (from tiktoken) (2024.11.6)\n",
            "Requirement already satisfied: requests>=2.26.0 in /usr/local/lib/python3.11/dist-packages (from tiktoken) (2.32.3)\n",
            "Requirement already satisfied: charset-normalizer<4,>=2 in /usr/local/lib/python3.11/dist-packages (from requests>=2.26.0->tiktoken) (3.4.1)\n",
            "Requirement already satisfied: idna<4,>=2.5 in /usr/local/lib/python3.11/dist-packages (from requests>=2.26.0->tiktoken) (3.10)\n",
            "Requirement already satisfied: urllib3<3,>=1.21.1 in /usr/local/lib/python3.11/dist-packages (from requests>=2.26.0->tiktoken) (2.3.0)\n",
            "Requirement already satisfied: certifi>=2017.4.17 in /usr/local/lib/python3.11/dist-packages (from requests>=2.26.0->tiktoken) (2025.1.31)\n",
            "Downloading tiktoken-0.9.0-cp311-cp311-manylinux_2_17_x86_64.manylinux2014_x86_64.whl (1.2 MB)\n",
            "\u001b[?25l   \u001b[90m━━━━━━━━━━━━━━━━━━━━━━━━━━━━━━━━━━━━━━━━\u001b[0m \u001b[32m0.0/1.2 MB\u001b[0m \u001b[31m?\u001b[0m eta \u001b[36m-:--:--\u001b[0m\r\u001b[2K   \u001b[90m━━━━━━━━━━━━━━━━━━━━━━━━━━━━━━━━━━━━━━━━\u001b[0m \u001b[32m1.2/1.2 MB\u001b[0m \u001b[31m55.9 MB/s\u001b[0m eta \u001b[36m0:00:00\u001b[0m\n",
            "\u001b[?25hInstalling collected packages: tiktoken\n",
            "Successfully installed tiktoken-0.9.0\n"
          ]
        }
      ]
    },
    {
      "cell_type": "code",
      "source": [
        "pip install faiss-cpu"
      ],
      "metadata": {
        "colab": {
          "base_uri": "https://localhost:8080/"
        },
        "id": "varV2EYfkVeK",
        "outputId": "2875e512-3640-4e5b-cfaf-8d9c038c00fc"
      },
      "execution_count": 13,
      "outputs": [
        {
          "output_type": "stream",
          "name": "stdout",
          "text": [
            "Collecting faiss-cpu\n",
            "  Downloading faiss_cpu-1.10.0-cp311-cp311-manylinux_2_28_x86_64.whl.metadata (4.4 kB)\n",
            "Requirement already satisfied: numpy<3.0,>=1.25.0 in /usr/local/lib/python3.11/dist-packages (from faiss-cpu) (2.0.2)\n",
            "Requirement already satisfied: packaging in /usr/local/lib/python3.11/dist-packages (from faiss-cpu) (24.2)\n",
            "Downloading faiss_cpu-1.10.0-cp311-cp311-manylinux_2_28_x86_64.whl (30.7 MB)\n",
            "\u001b[2K   \u001b[90m━━━━━━━━━━━━━━━━━━━━━━━━━━━━━━━━━━━━━━━━\u001b[0m \u001b[32m30.7/30.7 MB\u001b[0m \u001b[31m21.8 MB/s\u001b[0m eta \u001b[36m0:00:00\u001b[0m\n",
            "\u001b[?25hInstalling collected packages: faiss-cpu\n",
            "Successfully installed faiss-cpu-1.10.0\n"
          ]
        }
      ]
    },
    {
      "cell_type": "code",
      "source": [
        "from langchain.embeddings import OpenAIEmbeddings\n",
        "from langchain.vectorstores import FAISS\n",
        "\n",
        "embeddings = OpenAIEmbeddings()\n",
        "\n",
        "small_batch_docs = docs[:1000]  # Adjust the number as needed\n",
        "\n",
        "# Create a FAISS vector store for this small batch\n",
        "vectorstore = FAISS.from_documents(small_batch_docs, embeddings)\n",
        "\n",
        "# Define the destination path on your Google Drive\n",
        "save_path = \"/content/drive/My Drive/Colab Notebooks/Sentiments/faiss_index_small_batch\"\n",
        "\n",
        "# Create the directory if it doesn't exist\n",
        "if not os.path.exists(save_path):\n",
        "    os.makedirs(save_path)\n",
        "\n",
        "# Save the vector store\n",
        "vectorstore.save_local(save_path)\n",
        "print(\"Vector store for small batch saved to:\", save_path)"
      ],
      "metadata": {
        "colab": {
          "base_uri": "https://localhost:8080/"
        },
        "id": "hYFeeWNRjkMh",
        "outputId": "ac1b2567-94a2-4dca-92a4-1c148f230764"
      },
      "execution_count": 14,
      "outputs": [
        {
          "output_type": "stream",
          "name": "stdout",
          "text": [
            "Vector store for small batch saved to: /content/drive/My Drive/Colab Notebooks/Sentiments/faiss_index_small_batch\n"
          ]
        }
      ]
    },
    {
      "cell_type": "code",
      "source": [
        "from langchain.chains import RetrievalQA\n",
        "from langchain.llms import OpenAI\n"
      ],
      "metadata": {
        "id": "d1RzfrLCdVG3"
      },
      "execution_count": 15,
      "outputs": []
    },
    {
      "cell_type": "code",
      "source": [
        "# This initializes the OpenAI LLM; ensure OPENAI_API_KEY is set in your environment.\n",
        "llm = OpenAI(temperature=0)\n"
      ],
      "metadata": {
        "colab": {
          "base_uri": "https://localhost:8080/"
        },
        "id": "BWd7OYPldn9V",
        "outputId": "bbcfb00d-2a9c-42c1-a015-1f92bb4ca588"
      },
      "execution_count": 16,
      "outputs": [
        {
          "output_type": "stream",
          "name": "stderr",
          "text": [
            "<ipython-input-16-94b6358e18cf>:2: LangChainDeprecationWarning: The class `OpenAI` was deprecated in LangChain 0.0.10 and will be removed in 1.0. An updated version of the class exists in the :class:`~langchain-openai package and should be used instead. To use it run `pip install -U :class:`~langchain-openai` and import as `from :class:`~langchain_openai import OpenAI``.\n",
            "  llm = OpenAI(temperature=0)\n"
          ]
        }
      ]
    },
    {
      "cell_type": "code",
      "source": [
        "# Create a retrieval chain that uses the vectorstore as the retriever.\n",
        "qa_chain = RetrievalQA.from_chain_type(\n",
        "    llm=llm,\n",
        "    chain_type=\"stuff\",  # \"stuff\" concatenates the retrieved documents as context for the LLM.\n",
        "    retriever=vectorstore.as_retriever(),\n",
        "    return_source_documents=True  # Optionally, include source documents in the output.\n",
        ")\n"
      ],
      "metadata": {
        "id": "MN1OheqYdt-s"
      },
      "execution_count": 17,
      "outputs": []
    },
    {
      "cell_type": "code",
      "source": [
        "# Define a sample user query\n",
        "query = \"I want a hotel in Albania with a pool and excellent service.\"\n",
        "\n",
        "# Use the invoke method instead of run\n",
        "rag_output = qa_chain.invoke(query)\n",
        "\n",
        "print(\"RAG Output:\")\n",
        "print(\"Recommendation:\", rag_output[\"result\"])\n",
        "print(\"Source Documents:\", rag_output[\"source_documents\"])\n"
      ],
      "metadata": {
        "colab": {
          "base_uri": "https://localhost:8080/"
        },
        "id": "6MzbCiy0dyJn",
        "outputId": "edf9f98e-1990-44d9-8554-b54ae36fe1dd"
      },
      "execution_count": 19,
      "outputs": [
        {
          "output_type": "stream",
          "name": "stdout",
          "text": [
            "RAG Output:\n",
            "Recommendation:  Hotel Albania would be a great choice for you as it features a swimming pool and has a high sentiment score for its facilities and description.\n",
            "Source Documents: [Document(id='0bf89dfb-56e3-484c-8fbd-43b399985457', metadata={'hotel_id': 1940576}, page_content=\"Hotel Name: Hotel Albania\\nDescription: Hotel Albania features a garden, terrace, a restaurant and bar in VelipojÃ«. The property is set 500 metres from Velipoja Beach, 2.2 km from Rana e Hedhun Beach and 30 km from Rozafa Castle Shkodra. The accommodation offers a 24-hour front desk, airport transfers, room service and free WiFi throughout the property.\\n\\nThe units in the hotel are equipped with air conditioning, a seating area, a flat-screen TV with satellite channels, a kitchen, a dining area and a private bathroom with free toiletries, a bidet and a shower. All rooms will provide guests with a fridge.\\n\\nGuests at Hotel Albania can enjoy a continental breakfast.\\n\\nGuests at the accommodation will be able to enjoy activities in and around VelipojÃ«, like fishing and cycling.\\n\\nLake Skadar is 31 km from Hotel Albania. The nearest airport is Tirana International Mother Teresa Airport, 83 km from the hotel.\\nFacilities: CCTV outside property CCTV in common areas Smoke alarms Security alarm Key card access Key access 24-hour security Live sport events (broadcast) Live music/performance Tour or class about local culture Bike tours Walking tours Pub crawls Shuttle service Beach Outdoor fireplace Picnic area Outdoor furniture coffee house on site Pet bowls Auditory guidance Visual aids: Tactile signs Visual aids: Braille airport drop off airport pick up Emergency cord in bathroom Lower bathroom sink Higher level toilet Toilet with grab rails face masks for guests available thermometers for guests provided by property delivered food is securely covered guests have the option to cancel any cleaning services for their accommodation during their stay all plates  cutlery  glasses and other tableware have been sanitized property is cleaned by professional cleaning companies Wheelchair accessible secured parking Kid-friendly buffet Kid meals Baby safety gates wifi available in all areas Daily housekeeping Evening entertainment Beachfront minimarket on site Lockers airport shuttle (additional charge) airport shuttle (free) Trouser press Special diet menus (on request) screens or physical barriers placed between staff and guests in appropriate areas shuttle service (additional charge) physical distancing rules followed Private check-in/check-out cashless payment available Entertainment staff contactless check-in/check-out Sun terrace first aid kit available Snack Bar process in place to check health of guests designated smoking area hand sanitizer in guest accommodation and key areas Air conditioning shared stationery such as printed menus  magazines  pens  and paper removed Free WiFi staff follow all safety protocols as directed by local authorities Allergy-free room food can be delivered to guest accommodation wifi physical distancing in dining areas Luggage storage guest accommodation is disinfected between stays Fax/photocopying linens  towels and laundry washed in accordance with local authority guidelines Heating use of cleaning chemicals that are effective against coronavirus Cycling Fire extinguishers Packed lunches Soundproof rooms Currency exchange lift internet services Ironing service breakfast in the room Barber/beauty shop Facilities for disabled guests dry cleaning Laundry Family rooms babysitting/child services Business centre Fishing Airport shuttle Non-smoking rooms Terrace Garden 24-hour front desk Bar meeting/banquet facilities Room service Restaurant\\nDescription Sentiment: 0.9382\\nFacilities Sentiment: 0.9652\\nNamed Entities: [('CCTV', 'ORG'), ('CCTV', 'ORG'), ('Smoke', 'NORP'), ('Key', 'ORG'), ('24-hour', 'TIME'), ('Bike', 'ORG'), ('Pub', 'PERSON'), ('Shuttle', 'GPE'), ('Braille', 'GPE'), ('Lower', 'ORG'), ('Toilet', 'ORG'), ('Wheelchair', 'ORG'), ('Daily', 'DATE'), ('Evening', 'TIME'), ('Beachfront', 'NORP'), ('Lockers', 'PERSON'), ('Private', 'FAC'), ('Sun', 'ORG'), ('first', 'ORDINAL'), ('Snack Bar', 'FAC'), ('Air', 'ORG'), ('Free WiFi', 'PERSON'), ('Luggage', 'GPE'), ('Cycling Fire', 'ORG'), ('Packed', 'PERSON'), ('Soundproof rooms Currency', 'ORG'), ('Ironing', 'NORP'), ('Barber', 'PERSON'), ('Facilities', 'ORG'), ('Laundry Family', 'ORG'), ('Fishing Airport', 'FAC'), ('Terrace Garden', 'FAC'), ('24-hour', 'TIME')]\\n\"), Document(id='b645c528-e528-4a6b-bade-0b4505efec03', metadata={'hotel_id': 1398146}, page_content=\"Hotel Name: Colombo Hotel\\nDescription: Located on the 5th km on the National road from Elbasan to Librazhd, Hotel Colombo offers an outdoor pool and an a-la-caret restaurant. Free Wi-Fi access is provided.\\n\\nAll the rooms are air-conditioned and come with a flat-screen cable TV and a minibar. Featuring a shower, private bathrooms also come with free toiletries and towels. Breakfast is included in the room rate.\\n\\nHotel Colombo runs a 24-hour front desk and offers an on-site bar. A childrens playground and free private parking are also available.\\n\\nThe centre of Elbasan is located at a distance of 5 km. Shebenik-Jablanice National Park is 30 km away and Lake Ohrid is approximately 50 km from the Colombo.\\n\\nA local bus stop is 1 km away, while the Main Bus Station is in Elbasan. Tirana Airport is 70 km away and shuttle service is available at an additional cost.\\nFacilities: Laundry Non-smoking rooms Terrace Garden 24-hour front desk Bar meeting/banquet facilities Swimming pool Swimming pool Accessible parking Room service secured parking Restaurant kids' outdoor play equipment Parking water slide wifi available in all areas Private parking parking on site kids' club outdoor pool (seasonal) Sun terrace Air conditioning Free WiFi Outdoor pool wifi Heating children's playground lift internet services Free parking Ironing service Family rooms\\nDescription Sentiment: 0.8271\\nFacilities Sentiment: 0.8934\\nNamed Entities: [('Laundry Non-smoking', 'PERSON'), ('Terrace Garden', 'FAC'), ('24-hour', 'TIME'), ('Swimming', 'NORP'), ('Restaurant', 'ORG'), ('Family', 'PRODUCT')]\\n\"), Document(id='3de37d0a-e1cb-4017-9277-c2ed373bdc4a', metadata={'hotel_id': 1714347}, page_content=\"Hotel Name: Privilege Hotel & Spa\\nDescription: Featuring a restaurant and swimming pool, Privilege Hotel & Spa offers air-conditioned accommodation 5 km from the centre of Tirana. Guests can have a drink at the on-site bar. Free WiFi access is provided in all areas.\\n\\nEach room at this hotel comes with a TV with cable channels, a minibar, a safe and a seating area. A Rooms have a private bathroom with a shower. For your comfort, you will find slippers and a hairdryer.\\n\\nGuests can book a massage at the hotel spa and wellness centre or relax in the sauna. The hotel also offers car hire. Sky Tower is 4.3 km from Privilege Hotel & Spa, while National Theatre of Opera and Ballet is 5 km from the property.\\n\\nThe nearest airport is Tirana Airport, 25 km from the property. Airport shuttle is available at a surcharge.\\nFacilities: Car hire hammam Heating Fax/photocopying Luggage storage wifi Indoor pool Free WiFi Non-smoking throughout Air conditioning designated smoking area indoor pool (all year) Indoor pool (seasonal) concierge service Special diet menus (on request) Daily housekeeping parking on site Private parking wifi available in all areas secured parking Swimming pool Swimming pool Bar 24-hour front desk Sauna Garden Terrace Non-smoking rooms dry cleaning Barber/beauty shop Free parking internet services lift Spa and wellness centre Massage Hot tub/jacuzzi Soundproof rooms Parking Restaurant Room service meeting/banquet facilities\\nDescription Sentiment: 0.9552\\nFacilities Sentiment: 0.9313\\nNamed Entities: [('Heating Fax/photocopying Luggage', 'WORK_OF_ART'), ('Air', 'ORG'), ('all year', 'DATE'), ('Swimming', 'NORP'), ('24-hour', 'TIME'), ('Sauna Garden Terrace', 'ORG'), ('Barber', 'PERSON'), ('Free', 'ORG'), ('Spa', 'PERSON'), ('Massage Hot tub/jacuzzi Soundproof', 'ORG')]\\n\"), Document(id='bfdc2e4c-5b20-43ab-97e2-8d9e9e299f8c', metadata={'hotel_id': 1714144}, page_content=\"Hotel Name: Royal Hill Hotel\\nDescription: Located in Tirana, 14 km from Skanderbeg Square, Royal Hill Hotel provides accommodation with a seasonal outdoor swimming pool, free private parking, a garden and a restaurant. Providing a bar, the property is located within 18 km of Dajti Ekspres Cable Car. The accommodation offers room service, luggage storage space and currency exchange for guests.\\n\\nAt the hotel, all rooms are fitted with a desk. Complete with a private bathroom equipped with a shower and free toiletries, all units at Royal Hill Hotel have a flat-screen TV and air conditioning, and some rooms will provide you with a patio. At the accommodation every room is fitted with bed linen and towels.\\n\\nA continental, Italian or vegetarian breakfast is available daily at the property.\\n\\nFormer Residence of Enver Hoxha is 14 km from Royal Hill Hotel, while Rock of Kavaje is 31 km away. The nearest airport is Tirana International Mother Teresa, 8 km from the hotel, and the property offers a paid airport shuttle service. Please note that the swimming pool/ is open from 08:00 until 17:00 daily.\\nFacilities: 24-hour security Shuttle service Swimming pool kids' pool Outdoor furniture Sun umbrellas sun loungers or beach chairs airport drop off airport pick up Wine/champagne Shallow end Pool with view wifi available in all areas Swimming pool Fire extinguishers CCTV outside property CCTV in common areas Key card access Private parking parking on site Daily housekeeping airport shuttle (additional charge) Special diet menus (on request) shuttle service (additional charge) Private check-in/check-out outdoor pool (seasonal) Air conditioning Free WiFi Outdoor pool wifi Luggage storage Heating Currency exchange Valet parking express check-in/check-out internet services Free parking breakfast in the room Airport shuttle Non-smoking rooms Garden Bar meeting/banquet facilities Room service Restaurant Parking\\nDescription Sentiment: 0.836\\nFacilities Sentiment: 0.802\\nNamed Entities: [('24-hour', 'TIME'), ('Shuttle', 'PERSON'), ('Swimming', 'NORP'), ('Sun', 'ORG'), ('Swimming', 'NORP'), ('CCTV', 'ORG'), ('CCTV', 'ORG'), ('Key', 'ORG'), ('Private', 'ORG'), ('Daily', 'DATE'), ('Luggage', 'ORG'), ('Valet', 'ORG'), ('Airport', 'ORG'), ('Garden Bar', 'FAC')]\\n\")]\n"
          ]
        }
      ]
    },
    {
      "cell_type": "code",
      "source": [
        "# DO NOT EVER PROCESS LINE BY LINE\n",
        "def get_entities(text):\n",
        "    \"\"\"\n",
        "    Process a text string with spaCy to extract named entities.\n",
        "\n",
        "    Args:\n",
        "        text (str): The input text (e.g., a hotel review or description).\n",
        "\n",
        "    Returns:\n",
        "        List of tuples: Each tuple contains (entity text, entity label)\n",
        "    \"\"\"\n",
        "\n",
        "    # Ensure the input is a string and process it through spaCy\n",
        "    doc = nlp(str(text))\n",
        "\n",
        "    # Extract entities: each 'ent' contains the text and its label (e.g., GPE, ORG)\n",
        "    entities = [(ent.text, ent.label_) for ent in doc.ents]\n",
        "    return entities\n"
      ],
      "metadata": {
        "id": "mO7etD9G575q"
      },
      "execution_count": null,
      "outputs": []
    }
  ]
}